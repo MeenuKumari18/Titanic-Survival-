{
 "cells": [
  {
   "cell_type": "code",
   "execution_count": 1,
   "metadata": {
    "_cell_guid": "b1076dfc-b9ad-4769-8c92-a6c4dae69d19",
    "_uuid": "8f2839f25d086af736a60e9eeb907d3b93b6e0e5",
    "execution": {
     "iopub.execute_input": "2020-08-23T17:39:27.909406Z",
     "iopub.status.busy": "2020-08-23T17:39:27.907933Z",
     "iopub.status.idle": "2020-08-23T17:39:27.914505Z",
     "shell.execute_reply": "2020-08-23T17:39:27.913089Z"
    },
    "papermill": {
     "duration": 0.033652,
     "end_time": "2020-08-23T17:39:27.914722",
     "exception": false,
     "start_time": "2020-08-23T17:39:27.881070",
     "status": "completed"
    },
    "tags": []
   },
   "outputs": [
    {
     "name": "stdout",
     "output_type": "stream",
     "text": [
      "/kaggle/input/titanic/gender_submission.csv\n",
      "/kaggle/input/titanic/test.csv\n",
      "/kaggle/input/titanic/train.csv\n"
     ]
    }
   ],
   "source": [
    "# This Python 3 environment comes with many helpful analytics libraries installed\n",
    "# It is defined by the kaggle/python Docker image: https://github.com/kaggle/docker-python\n",
    "# For example, here's several helpful packages to load\n",
    "\n",
    "import numpy as np # linear algebra\n",
    "import pandas as pd # data processing, CSV file I/O (e.g. pd.read_csv)\n",
    "\n",
    "# Input data files are available in the read-only \"../input/\" directory\n",
    "# For example, running this (by clicking run or pressing Shift+Enter) will list all files under the input directory\n",
    "\n",
    "import os\n",
    "for dirname, _, filenames in os.walk('/kaggle/input'):\n",
    "    for filename in filenames:\n",
    "        print(os.path.join(dirname, filename))\n",
    "\n",
    "# You can write up to 5GB to the current directory (/kaggle/working/) that gets preserved as output when you create a version using \"Save & Run All\" \n",
    "# You can also write temporary files to /kaggle/temp/, but they won't be saved outside of the current session"
   ]
  },
  {
   "cell_type": "code",
   "execution_count": 1,
   "metadata": {},
   "outputs": [
    {
     "data": {
      "text/plain": [
       "'C:\\\\Users\\\\Asus\\\\new1'"
      ]
     },
     "execution_count": 1,
     "metadata": {},
     "output_type": "execute_result"
    }
   ],
   "source": [
    "pwd\n"
   ]
  },
  {
   "cell_type": "code",
   "execution_count": 2,
   "metadata": {
    "_cell_guid": "79c7e3d0-c299-4dcb-8224-4455121ee9b0",
    "_uuid": "d629ff2d2480ee46fbb7e2d37f6b5fab8052498a",
    "execution": {
     "iopub.execute_input": "2020-08-23T17:39:27.955417Z",
     "iopub.status.busy": "2020-08-23T17:39:27.954512Z",
     "iopub.status.idle": "2020-08-23T17:39:29.171545Z",
     "shell.execute_reply": "2020-08-23T17:39:29.170818Z"
    },
    "papermill": {
     "duration": 1.240139,
     "end_time": "2020-08-23T17:39:29.171669",
     "exception": false,
     "start_time": "2020-08-23T17:39:27.931530",
     "status": "completed"
    },
    "tags": []
   },
   "outputs": [],
   "source": [
    "import pandas as pd\n",
    "import numpy as np\n",
    "import matplotlib.pyplot as plt\n",
    "%matplotlib inline\n",
    "import seaborn as sns\n",
    "\n",
    "train_path='C:\\\\Users\\\\Asus\\\\new1/train.csv'\n",
    "test_path='C:\\\\Users\\\\Asus\\\\new1/test.csv'"
   ]
  },
  {
   "cell_type": "markdown",
   "metadata": {
    "papermill": {
     "duration": 0.014039,
     "end_time": "2020-08-23T17:39:29.200512",
     "exception": false,
     "start_time": "2020-08-23T17:39:29.186473",
     "status": "completed"
    },
    "tags": []
   },
   "source": [
    "# **Import the data**"
   ]
  },
  {
   "cell_type": "code",
   "execution_count": 3,
   "metadata": {
    "execution": {
     "iopub.execute_input": "2020-08-23T17:39:29.259874Z",
     "iopub.status.busy": "2020-08-23T17:39:29.259020Z",
     "iopub.status.idle": "2020-08-23T17:39:29.314258Z",
     "shell.execute_reply": "2020-08-23T17:39:29.313489Z"
    },
    "papermill": {
     "duration": 0.099295,
     "end_time": "2020-08-23T17:39:29.314388",
     "exception": false,
     "start_time": "2020-08-23T17:39:29.215093",
     "status": "completed"
    },
    "tags": []
   },
   "outputs": [],
   "source": [
    "train=pd.read_csv(\"/kaggle/input/titanic/train.csv\")\n",
    "test=pd.read_csv(\"/kaggle/input/titanic/train.csv\")"
   ]
  },
  {
   "cell_type": "markdown",
   "metadata": {
    "papermill": {
     "duration": 0.014735,
     "end_time": "2020-08-23T17:39:29.344058",
     "exception": false,
     "start_time": "2020-08-23T17:39:29.329323",
     "status": "completed"
    },
    "tags": []
   },
   "source": [
    "# **Load the data**"
   ]
  },
  {
   "cell_type": "code",
   "execution_count": 4,
   "metadata": {
    "execution": {
     "iopub.execute_input": "2020-08-23T17:39:29.381693Z",
     "iopub.status.busy": "2020-08-23T17:39:29.381015Z",
     "iopub.status.idle": "2020-08-23T17:39:29.385970Z",
     "shell.execute_reply": "2020-08-23T17:39:29.385304Z"
    },
    "papermill": {
     "duration": 0.026502,
     "end_time": "2020-08-23T17:39:29.386091",
     "exception": false,
     "start_time": "2020-08-23T17:39:29.359589",
     "status": "completed"
    },
    "tags": []
   },
   "outputs": [
    {
     "data": {
      "text/plain": [
       "(891, 12)"
      ]
     },
     "execution_count": 4,
     "metadata": {},
     "output_type": "execute_result"
    }
   ],
   "source": [
    "train.shape"
   ]
  },
  {
   "cell_type": "code",
   "execution_count": 5,
   "metadata": {
    "execution": {
     "iopub.execute_input": "2020-08-23T17:39:29.434288Z",
     "iopub.status.busy": "2020-08-23T17:39:29.433558Z",
     "iopub.status.idle": "2020-08-23T17:39:29.445809Z",
     "shell.execute_reply": "2020-08-23T17:39:29.445251Z"
    },
    "papermill": {
     "duration": 0.044922,
     "end_time": "2020-08-23T17:39:29.445931",
     "exception": false,
     "start_time": "2020-08-23T17:39:29.401009",
     "status": "completed"
    },
    "tags": []
   },
   "outputs": [
    {
     "data": {
      "text/html": [
       "<div>\n",
       "<style scoped>\n",
       "    .dataframe tbody tr th:only-of-type {\n",
       "        vertical-align: middle;\n",
       "    }\n",
       "\n",
       "    .dataframe tbody tr th {\n",
       "        vertical-align: top;\n",
       "    }\n",
       "\n",
       "    .dataframe thead th {\n",
       "        text-align: right;\n",
       "    }\n",
       "</style>\n",
       "<table border=\"1\" class=\"dataframe\">\n",
       "  <thead>\n",
       "    <tr style=\"text-align: right;\">\n",
       "      <th></th>\n",
       "      <th>PassengerId</th>\n",
       "      <th>Survived</th>\n",
       "      <th>Pclass</th>\n",
       "      <th>Name</th>\n",
       "      <th>Sex</th>\n",
       "      <th>Age</th>\n",
       "      <th>SibSp</th>\n",
       "      <th>Parch</th>\n",
       "      <th>Ticket</th>\n",
       "      <th>Fare</th>\n",
       "      <th>Cabin</th>\n",
       "      <th>Embarked</th>\n",
       "    </tr>\n",
       "  </thead>\n",
       "  <tbody>\n",
       "    <tr>\n",
       "      <th>0</th>\n",
       "      <td>1</td>\n",
       "      <td>0</td>\n",
       "      <td>3</td>\n",
       "      <td>Braund, Mr. Owen Harris</td>\n",
       "      <td>male</td>\n",
       "      <td>22.0</td>\n",
       "      <td>1</td>\n",
       "      <td>0</td>\n",
       "      <td>A/5 21171</td>\n",
       "      <td>7.2500</td>\n",
       "      <td>NaN</td>\n",
       "      <td>S</td>\n",
       "    </tr>\n",
       "    <tr>\n",
       "      <th>1</th>\n",
       "      <td>2</td>\n",
       "      <td>1</td>\n",
       "      <td>1</td>\n",
       "      <td>Cumings, Mrs. John Bradley (Florence Briggs Th...</td>\n",
       "      <td>female</td>\n",
       "      <td>38.0</td>\n",
       "      <td>1</td>\n",
       "      <td>0</td>\n",
       "      <td>PC 17599</td>\n",
       "      <td>71.2833</td>\n",
       "      <td>C85</td>\n",
       "      <td>C</td>\n",
       "    </tr>\n",
       "    <tr>\n",
       "      <th>2</th>\n",
       "      <td>3</td>\n",
       "      <td>1</td>\n",
       "      <td>3</td>\n",
       "      <td>Heikkinen, Miss. Laina</td>\n",
       "      <td>female</td>\n",
       "      <td>26.0</td>\n",
       "      <td>0</td>\n",
       "      <td>0</td>\n",
       "      <td>STON/O2. 3101282</td>\n",
       "      <td>7.9250</td>\n",
       "      <td>NaN</td>\n",
       "      <td>S</td>\n",
       "    </tr>\n",
       "    <tr>\n",
       "      <th>3</th>\n",
       "      <td>4</td>\n",
       "      <td>1</td>\n",
       "      <td>1</td>\n",
       "      <td>Futrelle, Mrs. Jacques Heath (Lily May Peel)</td>\n",
       "      <td>female</td>\n",
       "      <td>35.0</td>\n",
       "      <td>1</td>\n",
       "      <td>0</td>\n",
       "      <td>113803</td>\n",
       "      <td>53.1000</td>\n",
       "      <td>C123</td>\n",
       "      <td>S</td>\n",
       "    </tr>\n",
       "    <tr>\n",
       "      <th>4</th>\n",
       "      <td>5</td>\n",
       "      <td>0</td>\n",
       "      <td>3</td>\n",
       "      <td>Allen, Mr. William Henry</td>\n",
       "      <td>male</td>\n",
       "      <td>35.0</td>\n",
       "      <td>0</td>\n",
       "      <td>0</td>\n",
       "      <td>373450</td>\n",
       "      <td>8.0500</td>\n",
       "      <td>NaN</td>\n",
       "      <td>S</td>\n",
       "    </tr>\n",
       "  </tbody>\n",
       "</table>\n",
       "</div>"
      ],
      "text/plain": [
       "   PassengerId  Survived  Pclass  \\\n",
       "0            1         0       3   \n",
       "1            2         1       1   \n",
       "2            3         1       3   \n",
       "3            4         1       1   \n",
       "4            5         0       3   \n",
       "\n",
       "                                                Name     Sex   Age  SibSp  \\\n",
       "0                            Braund, Mr. Owen Harris    male  22.0      1   \n",
       "1  Cumings, Mrs. John Bradley (Florence Briggs Th...  female  38.0      1   \n",
       "2                             Heikkinen, Miss. Laina  female  26.0      0   \n",
       "3       Futrelle, Mrs. Jacques Heath (Lily May Peel)  female  35.0      1   \n",
       "4                           Allen, Mr. William Henry    male  35.0      0   \n",
       "\n",
       "   Parch            Ticket     Fare Cabin Embarked  \n",
       "0      0         A/5 21171   7.2500   NaN        S  \n",
       "1      0          PC 17599  71.2833   C85        C  \n",
       "2      0  STON/O2. 3101282   7.9250   NaN        S  \n",
       "3      0            113803  53.1000  C123        S  \n",
       "4      0            373450   8.0500   NaN        S  "
      ]
     },
     "execution_count": 5,
     "metadata": {},
     "output_type": "execute_result"
    }
   ],
   "source": [
    "train.head()"
   ]
  },
  {
   "cell_type": "code",
   "execution_count": 6,
   "metadata": {
    "execution": {
     "iopub.execute_input": "2020-08-23T17:39:29.494445Z",
     "iopub.status.busy": "2020-08-23T17:39:29.493576Z",
     "iopub.status.idle": "2020-08-23T17:39:29.498534Z",
     "shell.execute_reply": "2020-08-23T17:39:29.498015Z"
    },
    "papermill": {
     "duration": 0.037404,
     "end_time": "2020-08-23T17:39:29.498660",
     "exception": false,
     "start_time": "2020-08-23T17:39:29.461256",
     "status": "completed"
    },
    "tags": []
   },
   "outputs": [
    {
     "data": {
      "text/html": [
       "<div>\n",
       "<style scoped>\n",
       "    .dataframe tbody tr th:only-of-type {\n",
       "        vertical-align: middle;\n",
       "    }\n",
       "\n",
       "    .dataframe tbody tr th {\n",
       "        vertical-align: top;\n",
       "    }\n",
       "\n",
       "    .dataframe thead th {\n",
       "        text-align: right;\n",
       "    }\n",
       "</style>\n",
       "<table border=\"1\" class=\"dataframe\">\n",
       "  <thead>\n",
       "    <tr style=\"text-align: right;\">\n",
       "      <th></th>\n",
       "      <th>PassengerId</th>\n",
       "      <th>Survived</th>\n",
       "      <th>Pclass</th>\n",
       "      <th>Name</th>\n",
       "      <th>Sex</th>\n",
       "      <th>Age</th>\n",
       "      <th>SibSp</th>\n",
       "      <th>Parch</th>\n",
       "      <th>Ticket</th>\n",
       "      <th>Fare</th>\n",
       "      <th>Cabin</th>\n",
       "      <th>Embarked</th>\n",
       "    </tr>\n",
       "  </thead>\n",
       "  <tbody>\n",
       "    <tr>\n",
       "      <th>0</th>\n",
       "      <td>1</td>\n",
       "      <td>0</td>\n",
       "      <td>3</td>\n",
       "      <td>Braund, Mr. Owen Harris</td>\n",
       "      <td>male</td>\n",
       "      <td>22.0</td>\n",
       "      <td>1</td>\n",
       "      <td>0</td>\n",
       "      <td>A/5 21171</td>\n",
       "      <td>7.2500</td>\n",
       "      <td>NaN</td>\n",
       "      <td>S</td>\n",
       "    </tr>\n",
       "    <tr>\n",
       "      <th>1</th>\n",
       "      <td>2</td>\n",
       "      <td>1</td>\n",
       "      <td>1</td>\n",
       "      <td>Cumings, Mrs. John Bradley (Florence Briggs Th...</td>\n",
       "      <td>female</td>\n",
       "      <td>38.0</td>\n",
       "      <td>1</td>\n",
       "      <td>0</td>\n",
       "      <td>PC 17599</td>\n",
       "      <td>71.2833</td>\n",
       "      <td>C85</td>\n",
       "      <td>C</td>\n",
       "    </tr>\n",
       "    <tr>\n",
       "      <th>2</th>\n",
       "      <td>3</td>\n",
       "      <td>1</td>\n",
       "      <td>3</td>\n",
       "      <td>Heikkinen, Miss. Laina</td>\n",
       "      <td>female</td>\n",
       "      <td>26.0</td>\n",
       "      <td>0</td>\n",
       "      <td>0</td>\n",
       "      <td>STON/O2. 3101282</td>\n",
       "      <td>7.9250</td>\n",
       "      <td>NaN</td>\n",
       "      <td>S</td>\n",
       "    </tr>\n",
       "    <tr>\n",
       "      <th>3</th>\n",
       "      <td>4</td>\n",
       "      <td>1</td>\n",
       "      <td>1</td>\n",
       "      <td>Futrelle, Mrs. Jacques Heath (Lily May Peel)</td>\n",
       "      <td>female</td>\n",
       "      <td>35.0</td>\n",
       "      <td>1</td>\n",
       "      <td>0</td>\n",
       "      <td>113803</td>\n",
       "      <td>53.1000</td>\n",
       "      <td>C123</td>\n",
       "      <td>S</td>\n",
       "    </tr>\n",
       "    <tr>\n",
       "      <th>4</th>\n",
       "      <td>5</td>\n",
       "      <td>0</td>\n",
       "      <td>3</td>\n",
       "      <td>Allen, Mr. William Henry</td>\n",
       "      <td>male</td>\n",
       "      <td>35.0</td>\n",
       "      <td>0</td>\n",
       "      <td>0</td>\n",
       "      <td>373450</td>\n",
       "      <td>8.0500</td>\n",
       "      <td>NaN</td>\n",
       "      <td>S</td>\n",
       "    </tr>\n",
       "  </tbody>\n",
       "</table>\n",
       "</div>"
      ],
      "text/plain": [
       "   PassengerId  Survived  Pclass  \\\n",
       "0            1         0       3   \n",
       "1            2         1       1   \n",
       "2            3         1       3   \n",
       "3            4         1       1   \n",
       "4            5         0       3   \n",
       "\n",
       "                                                Name     Sex   Age  SibSp  \\\n",
       "0                            Braund, Mr. Owen Harris    male  22.0      1   \n",
       "1  Cumings, Mrs. John Bradley (Florence Briggs Th...  female  38.0      1   \n",
       "2                             Heikkinen, Miss. Laina  female  26.0      0   \n",
       "3       Futrelle, Mrs. Jacques Heath (Lily May Peel)  female  35.0      1   \n",
       "4                           Allen, Mr. William Henry    male  35.0      0   \n",
       "\n",
       "   Parch            Ticket     Fare Cabin Embarked  \n",
       "0      0         A/5 21171   7.2500   NaN        S  \n",
       "1      0          PC 17599  71.2833   C85        C  \n",
       "2      0  STON/O2. 3101282   7.9250   NaN        S  \n",
       "3      0            113803  53.1000  C123        S  \n",
       "4      0            373450   8.0500   NaN        S  "
      ]
     },
     "execution_count": 6,
     "metadata": {},
     "output_type": "execute_result"
    }
   ],
   "source": [
    "test.head()"
   ]
  },
  {
   "cell_type": "markdown",
   "metadata": {
    "papermill": {
     "duration": 0.015235,
     "end_time": "2020-08-23T17:39:29.529840",
     "exception": false,
     "start_time": "2020-08-23T17:39:29.514605",
     "status": "completed"
    },
    "tags": []
   },
   "source": [
    "**Null Values**"
   ]
  },
  {
   "cell_type": "code",
   "execution_count": 7,
   "metadata": {
    "execution": {
     "iopub.execute_input": "2020-08-23T17:39:29.570406Z",
     "iopub.status.busy": "2020-08-23T17:39:29.569358Z",
     "iopub.status.idle": "2020-08-23T17:39:29.572787Z",
     "shell.execute_reply": "2020-08-23T17:39:29.573254Z"
    },
    "papermill": {
     "duration": 0.027326,
     "end_time": "2020-08-23T17:39:29.573418",
     "exception": false,
     "start_time": "2020-08-23T17:39:29.546092",
     "status": "completed"
    },
    "tags": []
   },
   "outputs": [
    {
     "data": {
      "text/plain": [
       "PassengerId      0\n",
       "Survived         0\n",
       "Pclass           0\n",
       "Name             0\n",
       "Sex              0\n",
       "Age            177\n",
       "SibSp            0\n",
       "Parch            0\n",
       "Ticket           0\n",
       "Fare             0\n",
       "Cabin          687\n",
       "Embarked         2\n",
       "dtype: int64"
      ]
     },
     "execution_count": 7,
     "metadata": {},
     "output_type": "execute_result"
    }
   ],
   "source": [
    "train.isnull().sum()\n"
   ]
  },
  {
   "cell_type": "code",
   "execution_count": 8,
   "metadata": {
    "execution": {
     "iopub.execute_input": "2020-08-23T17:39:29.613290Z",
     "iopub.status.busy": "2020-08-23T17:39:29.612422Z",
     "iopub.status.idle": "2020-08-23T17:39:29.616797Z",
     "shell.execute_reply": "2020-08-23T17:39:29.616249Z"
    },
    "papermill": {
     "duration": 0.027649,
     "end_time": "2020-08-23T17:39:29.616920",
     "exception": false,
     "start_time": "2020-08-23T17:39:29.589271",
     "status": "completed"
    },
    "tags": []
   },
   "outputs": [
    {
     "data": {
      "text/plain": [
       "PassengerId      0\n",
       "Survived         0\n",
       "Pclass           0\n",
       "Name             0\n",
       "Sex              0\n",
       "Age            177\n",
       "SibSp            0\n",
       "Parch            0\n",
       "Ticket           0\n",
       "Fare             0\n",
       "Cabin          687\n",
       "Embarked         2\n",
       "dtype: int64"
      ]
     },
     "execution_count": 8,
     "metadata": {},
     "output_type": "execute_result"
    }
   ],
   "source": [
    "test.isnull().sum()"
   ]
  },
  {
   "cell_type": "code",
   "execution_count": 9,
   "metadata": {
    "execution": {
     "iopub.execute_input": "2020-08-23T17:39:29.660062Z",
     "iopub.status.busy": "2020-08-23T17:39:29.659369Z",
     "iopub.status.idle": "2020-08-23T17:39:29.686152Z",
     "shell.execute_reply": "2020-08-23T17:39:29.685446Z"
    },
    "papermill": {
     "duration": 0.052804,
     "end_time": "2020-08-23T17:39:29.686282",
     "exception": false,
     "start_time": "2020-08-23T17:39:29.633478",
     "status": "completed"
    },
    "tags": []
   },
   "outputs": [
    {
     "data": {
      "text/plain": [
       "0    0.616162\n",
       "1    0.383838\n",
       "Name: Survived, dtype: float64"
      ]
     },
     "execution_count": 9,
     "metadata": {},
     "output_type": "execute_result"
    }
   ],
   "source": [
    "train[\"Survived\"].value_counts(normalize=True)"
   ]
  },
  {
   "cell_type": "markdown",
   "metadata": {
    "papermill": {
     "duration": 0.015445,
     "end_time": "2020-08-23T17:39:29.717665",
     "exception": false,
     "start_time": "2020-08-23T17:39:29.702220",
     "status": "completed"
    },
    "tags": []
   },
   "source": [
    "**So, we can see that almost 62% passengers died in the training set**"
   ]
  },
  {
   "cell_type": "code",
   "execution_count": 10,
   "metadata": {
    "execution": {
     "iopub.execute_input": "2020-08-23T17:39:29.761970Z",
     "iopub.status.busy": "2020-08-23T17:39:29.759539Z",
     "iopub.status.idle": "2020-08-23T17:39:29.926592Z",
     "shell.execute_reply": "2020-08-23T17:39:29.927138Z"
    },
    "papermill": {
     "duration": 0.193439,
     "end_time": "2020-08-23T17:39:29.927334",
     "exception": false,
     "start_time": "2020-08-23T17:39:29.733895",
     "status": "completed"
    },
    "tags": []
   },
   "outputs": [
    {
     "data": {
      "text/plain": [
       "<matplotlib.axes._subplots.AxesSubplot at 0x7fddb41a2250>"
      ]
     },
     "execution_count": 10,
     "metadata": {},
     "output_type": "execute_result"
    },
    {
     "data": {
      "image/png": "[encoded data removed]",
      "text/plain": [
       "<Figure size 432x288 with 1 Axes>"
      ]
     },
     "metadata": {
      "needs_background": "light"
     },
     "output_type": "display_data"
    }
   ],
   "source": [
    "sns.countplot(x=\"Survived\",data=train,palette=\"dark\")"
   ]
  },
  {
   "cell_type": "markdown",
   "metadata": {
    "papermill": {
     "duration": 0.015903,
     "end_time": "2020-08-23T17:39:29.959874",
     "exception": false,
     "start_time": "2020-08-23T17:39:29.943971",
     "status": "completed"
    },
    "tags": []
   },
   "source": [
    "**Let's see what percentage of people died and survived considering the Pclass**"
   ]
  },
  {
   "cell_type": "code",
   "execution_count": 11,
   "metadata": {
    "execution": {
     "iopub.execute_input": "2020-08-23T17:39:30.005563Z",
     "iopub.status.busy": "2020-08-23T17:39:30.004523Z",
     "iopub.status.idle": "2020-08-23T17:39:30.008127Z",
     "shell.execute_reply": "2020-08-23T17:39:30.008619Z"
    },
    "papermill": {
     "duration": 0.031831,
     "end_time": "2020-08-23T17:39:30.008811",
     "exception": false,
     "start_time": "2020-08-23T17:39:29.976980",
     "status": "completed"
    },
    "tags": []
   },
   "outputs": [
    {
     "data": {
      "text/plain": [
       "Pclass\n",
       "1    0.629630\n",
       "2    0.472826\n",
       "3    0.242363\n",
       "Name: Survived, dtype: float64"
      ]
     },
     "execution_count": 11,
     "metadata": {},
     "output_type": "execute_result"
    }
   ],
   "source": [
    "train[\"Survived\"].groupby(train[\"Pclass\"]).mean()"
   ]
  },
  {
   "cell_type": "code",
   "execution_count": 12,
   "metadata": {
    "execution": {
     "iopub.execute_input": "2020-08-23T17:39:30.052895Z",
     "iopub.status.busy": "2020-08-23T17:39:30.051793Z",
     "iopub.status.idle": "2020-08-23T17:39:30.256892Z",
     "shell.execute_reply": "2020-08-23T17:39:30.256191Z"
    },
    "papermill": {
     "duration": 0.23146,
     "end_time": "2020-08-23T17:39:30.257017",
     "exception": false,
     "start_time": "2020-08-23T17:39:30.025557",
     "status": "completed"
    },
    "tags": []
   },
   "outputs": [
    {
     "data": {
      "text/plain": [
       "<matplotlib.axes._subplots.AxesSubplot at 0x7fddaef8f210>"
      ]
     },
     "execution_count": 12,
     "metadata": {},
     "output_type": "execute_result"
    },
    {
     "data": {
      "image/png": "[encoded data removed]",
      "text/plain": [
       "<Figure size 432x288 with 1 Axes>"
      ]
     },
     "metadata": {
      "needs_background": "light"
     },
     "output_type": "display_data"
    }
   ],
   "source": [
    "sns.barplot(x=\"Pclass\",y=\"Survived\",data=train)"
   ]
  },
  {
   "cell_type": "markdown",
   "metadata": {
    "papermill": {
     "duration": 0.016477,
     "end_time": "2020-08-23T17:39:30.290895",
     "exception": false,
     "start_time": "2020-08-23T17:39:30.274418",
     "status": "completed"
    },
    "tags": []
   },
   "source": [
    "**It is visible that the percentage of survival is maximum for Class 1 and least for class 3.**"
   ]
  },
  {
   "cell_type": "markdown",
   "metadata": {
    "papermill": {
     "duration": 0.0168,
     "end_time": "2020-08-23T17:39:30.324651",
     "exception": false,
     "start_time": "2020-08-23T17:39:30.307851",
     "status": "completed"
    },
    "tags": []
   },
   "source": [
    "# **Title**"
   ]
  },
  {
   "cell_type": "code",
   "execution_count": 13,
   "metadata": {
    "execution": {
     "iopub.execute_input": "2020-08-23T17:39:30.366425Z",
     "iopub.status.busy": "2020-08-23T17:39:30.365653Z",
     "iopub.status.idle": "2020-08-23T17:39:30.377570Z",
     "shell.execute_reply": "2020-08-23T17:39:30.376936Z"
    },
    "papermill": {
     "duration": 0.036407,
     "end_time": "2020-08-23T17:39:30.377695",
     "exception": false,
     "start_time": "2020-08-23T17:39:30.341288",
     "status": "completed"
    },
    "tags": []
   },
   "outputs": [
    {
     "data": {
      "text/plain": [
       "Mr          517\n",
       "Miss        182\n",
       "Mrs         125\n",
       "Master       40\n",
       "Dr            7\n",
       "Rev           6\n",
       "Major         2\n",
       "Mlle          2\n",
       "Col           2\n",
       "Lady          1\n",
       "Ms            1\n",
       "Don           1\n",
       "Jonkheer      1\n",
       "Countess      1\n",
       "Sir           1\n",
       "Capt          1\n",
       "Mme           1\n",
       "Name: Title, dtype: int64"
      ]
     },
     "execution_count": 13,
     "metadata": {},
     "output_type": "execute_result"
    }
   ],
   "source": [
    "train['Title'] = train.Name.str.extract(' ([A-Za-z]+)\\.', expand=True)\n",
    "train['Title'].value_counts()\n"
   ]
  },
  {
   "cell_type": "code",
   "execution_count": 14,
   "metadata": {
    "execution": {
     "iopub.execute_input": "2020-08-23T17:39:30.418082Z",
     "iopub.status.busy": "2020-08-23T17:39:30.417377Z",
     "iopub.status.idle": "2020-08-23T17:39:30.424965Z",
     "shell.execute_reply": "2020-08-23T17:39:30.424365Z"
    },
    "papermill": {
     "duration": 0.029636,
     "end_time": "2020-08-23T17:39:30.425093",
     "exception": false,
     "start_time": "2020-08-23T17:39:30.395457",
     "status": "completed"
    },
    "tags": []
   },
   "outputs": [
    {
     "data": {
      "text/plain": [
       "Title\n",
       "Capt        0.000000\n",
       "Col         0.500000\n",
       "Countess    1.000000\n",
       "Don         0.000000\n",
       "Dr          0.428571\n",
       "Jonkheer    0.000000\n",
       "Lady        1.000000\n",
       "Major       0.500000\n",
       "Master      0.575000\n",
       "Miss        0.697802\n",
       "Mlle        1.000000\n",
       "Mme         1.000000\n",
       "Mr          0.156673\n",
       "Mrs         0.792000\n",
       "Ms          1.000000\n",
       "Rev         0.000000\n",
       "Sir         1.000000\n",
       "Name: Survived, dtype: float64"
      ]
     },
     "execution_count": 14,
     "metadata": {},
     "output_type": "execute_result"
    }
   ],
   "source": [
    "train['Survived'].groupby(train['Title']).mean()"
   ]
  },
  {
   "cell_type": "code",
   "execution_count": 15,
   "metadata": {
    "execution": {
     "iopub.execute_input": "2020-08-23T17:39:30.466547Z",
     "iopub.status.busy": "2020-08-23T17:39:30.464800Z",
     "iopub.status.idle": "2020-08-23T17:39:30.944159Z",
     "shell.execute_reply": "2020-08-23T17:39:30.943254Z"
    },
    "papermill": {
     "duration": 0.502081,
     "end_time": "2020-08-23T17:39:30.944362",
     "exception": false,
     "start_time": "2020-08-23T17:39:30.442281",
     "status": "completed"
    },
    "tags": []
   },
   "outputs": [
    {
     "data": {
      "text/plain": [
       "<matplotlib.axes._subplots.AxesSubplot at 0x7fddaef23450>"
      ]
     },
     "execution_count": 15,
     "metadata": {},
     "output_type": "execute_result"
    },
    {
     "data": {
      "image/png": "[encoded data removed]",
      "text/plain": [
       "<Figure size 1080x720 with 1 Axes>"
      ]
     },
     "metadata": {
      "needs_background": "light"
     },
     "output_type": "display_data"
    }
   ],
   "source": [
    "plt.figure(figsize=(15,10))\n",
    "sns.barplot(x='Title', y='Survived', data=train)"
   ]
  },
  {
   "cell_type": "markdown",
   "metadata": {
    "papermill": {
     "duration": 0.017484,
     "end_time": "2020-08-23T17:39:30.988715",
     "exception": false,
     "start_time": "2020-08-23T17:39:30.971231",
     "status": "completed"
    },
    "tags": []
   },
   "source": [
    "# **Let's work with the length of the names**"
   ]
  },
  {
   "cell_type": "code",
   "execution_count": 16,
   "metadata": {
    "execution": {
     "iopub.execute_input": "2020-08-23T17:39:31.035804Z",
     "iopub.status.busy": "2020-08-23T17:39:31.034813Z",
     "iopub.status.idle": "2020-08-23T17:39:31.040815Z",
     "shell.execute_reply": "2020-08-23T17:39:31.041310Z"
    },
    "papermill": {
     "duration": 0.03495,
     "end_time": "2020-08-23T17:39:31.041477",
     "exception": false,
     "start_time": "2020-08-23T17:39:31.006527",
     "status": "completed"
    },
    "tags": []
   },
   "outputs": [
    {
     "data": {
      "text/plain": [
       "array([23, 51, 22, 44, 24, 16, 30, 49, 35, 31, 27, 36, 32, 20, 28, 55, 21,\n",
       "       29, 57, 19, 46, 34, 56, 40, 17, 25, 45, 26, 50, 13, 15, 33, 18, 52,\n",
       "       47, 38, 37, 41, 14, 42, 39, 82, 48, 54, 43, 67, 65, 53, 61, 12])"
      ]
     },
     "execution_count": 16,
     "metadata": {},
     "output_type": "execute_result"
    }
   ],
   "source": [
    "train[\"Name_len\"]=train[\"Name\"].apply(lambda x : len(x))\n",
    "train.Name_len.unique()"
   ]
  },
  {
   "cell_type": "code",
   "execution_count": 17,
   "metadata": {
    "execution": {
     "iopub.execute_input": "2020-08-23T17:39:31.102227Z",
     "iopub.status.busy": "2020-08-23T17:39:31.101406Z",
     "iopub.status.idle": "2020-08-23T17:39:31.114490Z",
     "shell.execute_reply": "2020-08-23T17:39:31.113731Z"
    },
    "papermill": {
     "duration": 0.050406,
     "end_time": "2020-08-23T17:39:31.114618",
     "exception": false,
     "start_time": "2020-08-23T17:39:31.064212",
     "status": "completed"
    },
    "tags": []
   },
   "outputs": [
    {
     "data": {
      "text/plain": [
       "Name_len        Survived\n",
       "(11.999, 19.0]  0           159\n",
       "                1            45\n",
       "(19.0, 23.0]    0           109\n",
       "                1            47\n",
       "(23.0, 27.0]    0           134\n",
       "                1            63\n",
       "(27.0, 32.0]    0            92\n",
       "                1            73\n",
       "(32.0, 82.0]    1           114\n",
       "                0            55\n",
       "Name: Survived, dtype: int64"
      ]
     },
     "execution_count": 17,
     "metadata": {},
     "output_type": "execute_result"
    }
   ],
   "source": [
    "train[\"Survived\"].groupby(pd.qcut(train[\"Name_len\"],5)).value_counts()"
   ]
  },
  {
   "cell_type": "markdown",
   "metadata": {
    "papermill": {
     "duration": 0.017131,
     "end_time": "2020-08-23T17:39:31.149885",
     "exception": false,
     "start_time": "2020-08-23T17:39:31.132754",
     "status": "completed"
    },
    "tags": []
   },
   "source": [
    "**It can be said that there is a corelation between name length and suvival.**"
   ]
  },
  {
   "cell_type": "markdown",
   "metadata": {
    "papermill": {
     "duration": 0.017626,
     "end_time": "2020-08-23T17:39:31.185481",
     "exception": false,
     "start_time": "2020-08-23T17:39:31.167855",
     "status": "completed"
    },
    "tags": []
   },
   "source": [
    "\n",
    "# **Let's work with the column Sex**"
   ]
  },
  {
   "cell_type": "code",
   "execution_count": 18,
   "metadata": {
    "execution": {
     "iopub.execute_input": "2020-08-23T17:39:31.229315Z",
     "iopub.status.busy": "2020-08-23T17:39:31.228496Z",
     "iopub.status.idle": "2020-08-23T17:39:31.233012Z",
     "shell.execute_reply": "2020-08-23T17:39:31.232502Z"
    },
    "papermill": {
     "duration": 0.029892,
     "end_time": "2020-08-23T17:39:31.233138",
     "exception": false,
     "start_time": "2020-08-23T17:39:31.203246",
     "status": "completed"
    },
    "tags": []
   },
   "outputs": [
    {
     "data": {
      "text/plain": [
       "male      0.647587\n",
       "female    0.352413\n",
       "Name: Sex, dtype: float64"
      ]
     },
     "execution_count": 18,
     "metadata": {},
     "output_type": "execute_result"
    }
   ],
   "source": [
    "train.Sex.value_counts(normalize=True)"
   ]
  },
  {
   "cell_type": "markdown",
   "metadata": {
    "papermill": {
     "duration": 0.018871,
     "end_time": "2020-08-23T17:39:31.269702",
     "exception": false,
     "start_time": "2020-08-23T17:39:31.250831",
     "status": "completed"
    },
    "tags": []
   },
   "source": [
    "**This shows that the survival rate of males is more than that of the females**"
   ]
  },
  {
   "cell_type": "code",
   "execution_count": 19,
   "metadata": {
    "execution": {
     "iopub.execute_input": "2020-08-23T17:39:31.318524Z",
     "iopub.status.busy": "2020-08-23T17:39:31.316535Z",
     "iopub.status.idle": "2020-08-23T17:39:31.427244Z",
     "shell.execute_reply": "2020-08-23T17:39:31.426586Z"
    },
    "papermill": {
     "duration": 0.135546,
     "end_time": "2020-08-23T17:39:31.427372",
     "exception": false,
     "start_time": "2020-08-23T17:39:31.291826",
     "status": "completed"
    },
    "tags": []
   },
   "outputs": [
    {
     "data": {
      "text/plain": [
       "<matplotlib.axes._subplots.AxesSubplot at 0x7fddaef19410>"
      ]
     },
     "execution_count": 19,
     "metadata": {},
     "output_type": "execute_result"
    },
    {
     "data": {
      "image/png": "[encoded data removed]",
      "text/plain": [
       "<Figure size 432x288 with 1 Axes>"
      ]
     },
     "metadata": {
      "needs_background": "light"
     },
     "output_type": "display_data"
    }
   ],
   "source": [
    "sns.countplot(x=\"Sex\",data=train,palette=\"dark\")"
   ]
  },
  {
   "cell_type": "markdown",
   "metadata": {
    "papermill": {
     "duration": 0.018081,
     "end_time": "2020-08-23T17:39:31.463579",
     "exception": false,
     "start_time": "2020-08-23T17:39:31.445498",
     "status": "completed"
    },
    "tags": []
   },
   "source": [
    "**So, almost 65% passengers were male, now we will see their survival percentage**"
   ]
  },
  {
   "cell_type": "code",
   "execution_count": 20,
   "metadata": {
    "execution": {
     "iopub.execute_input": "2020-08-23T17:39:31.505957Z",
     "iopub.status.busy": "2020-08-23T17:39:31.505229Z",
     "iopub.status.idle": "2020-08-23T17:39:31.513102Z",
     "shell.execute_reply": "2020-08-23T17:39:31.512521Z"
    },
    "papermill": {
     "duration": 0.031577,
     "end_time": "2020-08-23T17:39:31.513239",
     "exception": false,
     "start_time": "2020-08-23T17:39:31.481662",
     "status": "completed"
    },
    "tags": []
   },
   "outputs": [
    {
     "data": {
      "text/plain": [
       "Sex\n",
       "female    0.742038\n",
       "male      0.188908\n",
       "Name: Survived, dtype: float64"
      ]
     },
     "execution_count": 20,
     "metadata": {},
     "output_type": "execute_result"
    }
   ],
   "source": [
    "train[\"Survived\"].groupby(train[\"Sex\"]).mean()"
   ]
  },
  {
   "cell_type": "code",
   "execution_count": 21,
   "metadata": {
    "execution": {
     "iopub.execute_input": "2020-08-23T17:39:31.557626Z",
     "iopub.status.busy": "2020-08-23T17:39:31.556542Z",
     "iopub.status.idle": "2020-08-23T17:39:31.732346Z",
     "shell.execute_reply": "2020-08-23T17:39:31.731697Z"
    },
    "papermill": {
     "duration": 0.200649,
     "end_time": "2020-08-23T17:39:31.732494",
     "exception": false,
     "start_time": "2020-08-23T17:39:31.531845",
     "status": "completed"
    },
    "tags": []
   },
   "outputs": [
    {
     "data": {
      "text/plain": [
       "<matplotlib.axes._subplots.AxesSubplot at 0x7fddaedd26d0>"
      ]
     },
     "execution_count": 21,
     "metadata": {},
     "output_type": "execute_result"
    },
    {
     "data": {
      "image/png": "[encoded data removed]",
      "text/plain": [
       "<Figure size 432x288 with 1 Axes>"
      ]
     },
     "metadata": {
      "needs_background": "light"
     },
     "output_type": "display_data"
    }
   ],
   "source": [
    "sns.barplot(x=\"Sex\",y=\"Survived\",data=train)"
   ]
  },
  {
   "cell_type": "markdown",
   "metadata": {
    "papermill": {
     "duration": 0.019189,
     "end_time": "2020-08-23T17:39:31.771571",
     "exception": false,
     "start_time": "2020-08-23T17:39:31.752382",
     "status": "completed"
    },
    "tags": []
   },
   "source": [
    "**The survival rate of females is much more than the males.**"
   ]
  },
  {
   "cell_type": "code",
   "execution_count": 22,
   "metadata": {
    "execution": {
     "iopub.execute_input": "2020-08-23T17:39:31.826502Z",
     "iopub.status.busy": "2020-08-23T17:39:31.815248Z",
     "iopub.status.idle": "2020-08-23T17:39:31.831684Z",
     "shell.execute_reply": "2020-08-23T17:39:31.831090Z"
    },
    "papermill": {
     "duration": 0.040666,
     "end_time": "2020-08-23T17:39:31.831834",
     "exception": false,
     "start_time": "2020-08-23T17:39:31.791168",
     "status": "completed"
    },
    "tags": []
   },
   "outputs": [
    {
     "data": {
      "text/plain": [
       "Age\n",
       "(0.419, 16.0]     0.550000\n",
       "(16.0, 20.125]    0.341772\n",
       "(20.125, 24.0]    0.367347\n",
       "(24.0, 28.0]      0.352941\n",
       "(28.0, 32.312]    0.416667\n",
       "(32.312, 38.0]    0.450549\n",
       "(38.0, 47.0]      0.329545\n",
       "(47.0, 80.0]      0.415730\n",
       "Name: Survived, dtype: float64"
      ]
     },
     "execution_count": 22,
     "metadata": {},
     "output_type": "execute_result"
    }
   ],
   "source": [
    "train[\"Survived\"].groupby(pd.qcut(train[\"Age\"],8)).mean()"
   ]
  },
  {
   "cell_type": "code",
   "execution_count": 23,
   "metadata": {
    "execution": {
     "iopub.execute_input": "2020-08-23T17:39:31.929244Z",
     "iopub.status.busy": "2020-08-23T17:39:31.928202Z",
     "iopub.status.idle": "2020-08-23T17:39:31.942570Z",
     "shell.execute_reply": "2020-08-23T17:39:31.941826Z"
    },
    "papermill": {
     "duration": 0.038359,
     "end_time": "2020-08-23T17:39:31.942701",
     "exception": false,
     "start_time": "2020-08-23T17:39:31.904342",
     "status": "completed"
    },
    "tags": []
   },
   "outputs": [
    {
     "data": {
      "text/plain": [
       "(0.419, 16.0]     100\n",
       "(20.125, 24.0]     98\n",
       "(32.312, 38.0]     91\n",
       "(47.0, 80.0]       89\n",
       "(38.0, 47.0]       88\n",
       "(24.0, 28.0]       85\n",
       "(28.0, 32.312]     84\n",
       "(16.0, 20.125]     79\n",
       "Name: Age, dtype: int64"
      ]
     },
     "execution_count": 23,
     "metadata": {},
     "output_type": "execute_result"
    }
   ],
   "source": [
    "pd.qcut(train[\"Age\"],8).value_counts()"
   ]
  },
  {
   "cell_type": "markdown",
   "metadata": {
    "papermill": {
     "duration": 0.019535,
     "end_time": "2020-08-23T17:39:31.980937",
     "exception": false,
     "start_time": "2020-08-23T17:39:31.961402",
     "status": "completed"
    },
    "tags": []
   },
   "source": [
    "**It visible that the relation between Age and Survival is negative, that is with the increase in age the survival percentage decreases.**"
   ]
  },
  {
   "cell_type": "markdown",
   "metadata": {
    "papermill": {
     "duration": 0.018784,
     "end_time": "2020-08-23T17:39:32.018749",
     "exception": false,
     "start_time": "2020-08-23T17:39:31.999965",
     "status": "completed"
    },
    "tags": []
   },
   "source": [
    "# SibSp"
   ]
  },
  {
   "cell_type": "code",
   "execution_count": 24,
   "metadata": {
    "execution": {
     "iopub.execute_input": "2020-08-23T17:39:32.064811Z",
     "iopub.status.busy": "2020-08-23T17:39:32.063989Z",
     "iopub.status.idle": "2020-08-23T17:39:32.068607Z",
     "shell.execute_reply": "2020-08-23T17:39:32.068026Z"
    },
    "papermill": {
     "duration": 0.031155,
     "end_time": "2020-08-23T17:39:32.068736",
     "exception": false,
     "start_time": "2020-08-23T17:39:32.037581",
     "status": "completed"
    },
    "tags": []
   },
   "outputs": [
    {
     "data": {
      "text/plain": [
       "0    0.682379\n",
       "1    0.234568\n",
       "2    0.031425\n",
       "4    0.020202\n",
       "3    0.017957\n",
       "8    0.007856\n",
       "5    0.005612\n",
       "Name: SibSp, dtype: float64"
      ]
     },
     "execution_count": 24,
     "metadata": {},
     "output_type": "execute_result"
    }
   ],
   "source": [
    "train[\"SibSp\"].value_counts(normalize=True)"
   ]
  },
  {
   "cell_type": "code",
   "execution_count": 25,
   "metadata": {
    "execution": {
     "iopub.execute_input": "2020-08-23T17:39:32.114760Z",
     "iopub.status.busy": "2020-08-23T17:39:32.113735Z",
     "iopub.status.idle": "2020-08-23T17:39:32.348302Z",
     "shell.execute_reply": "2020-08-23T17:39:32.347602Z"
    },
    "papermill": {
     "duration": 0.260868,
     "end_time": "2020-08-23T17:39:32.348431",
     "exception": false,
     "start_time": "2020-08-23T17:39:32.087563",
     "status": "completed"
    },
    "tags": []
   },
   "outputs": [
    {
     "data": {
      "text/plain": [
       "<matplotlib.axes._subplots.AxesSubplot at 0x7fddaede9350>"
      ]
     },
     "execution_count": 25,
     "metadata": {},
     "output_type": "execute_result"
    },
    {
     "data": {
      "image/png": "[encoded data removed]",
      "text/plain": [
       "<Figure size 720x576 with 1 Axes>"
      ]
     },
     "metadata": {
      "needs_background": "light"
     },
     "output_type": "display_data"
    }
   ],
   "source": [
    "plt.figure(figsize=(10,8))\n",
    "sns.countplot(x=\"SibSp\",data=train,palette=\"dark\")"
   ]
  },
  {
   "cell_type": "code",
   "execution_count": 26,
   "metadata": {
    "execution": {
     "iopub.execute_input": "2020-08-23T17:39:32.393369Z",
     "iopub.status.busy": "2020-08-23T17:39:32.392628Z",
     "iopub.status.idle": "2020-08-23T17:39:32.400557Z",
     "shell.execute_reply": "2020-08-23T17:39:32.400009Z"
    },
    "papermill": {
     "duration": 0.032601,
     "end_time": "2020-08-23T17:39:32.400690",
     "exception": false,
     "start_time": "2020-08-23T17:39:32.368089",
     "status": "completed"
    },
    "tags": []
   },
   "outputs": [
    {
     "data": {
      "text/plain": [
       "SibSp\n",
       "0    0.345395\n",
       "1    0.535885\n",
       "2    0.464286\n",
       "3    0.250000\n",
       "4    0.166667\n",
       "5    0.000000\n",
       "8    0.000000\n",
       "Name: Survived, dtype: float64"
      ]
     },
     "execution_count": 26,
     "metadata": {},
     "output_type": "execute_result"
    }
   ],
   "source": [
    "train[\"Survived\"].groupby(train[\"SibSp\"]).mean()"
   ]
  },
  {
   "cell_type": "code",
   "execution_count": 27,
   "metadata": {
    "execution": {
     "iopub.execute_input": "2020-08-23T17:39:32.449939Z",
     "iopub.status.busy": "2020-08-23T17:39:32.448867Z",
     "iopub.status.idle": "2020-08-23T17:39:32.777362Z",
     "shell.execute_reply": "2020-08-23T17:39:32.776635Z"
    },
    "papermill": {
     "duration": 0.357206,
     "end_time": "2020-08-23T17:39:32.777486",
     "exception": false,
     "start_time": "2020-08-23T17:39:32.420280",
     "status": "completed"
    },
    "tags": []
   },
   "outputs": [
    {
     "data": {
      "text/plain": [
       "<matplotlib.axes._subplots.AxesSubplot at 0x7fddaefdd610>"
      ]
     },
     "execution_count": 27,
     "metadata": {},
     "output_type": "execute_result"
    },
    {
     "data": {
      "image/png": "[encoded data removed]",
      "text/plain": [
       "<Figure size 720x576 with 1 Axes>"
      ]
     },
     "metadata": {
      "needs_background": "light"
     },
     "output_type": "display_data"
    }
   ],
   "source": [
    "plt.figure(figsize=(10,8))\n",
    "sns.barplot(x=\"SibSp\",y=\"Survived\",data=train)"
   ]
  },
  {
   "cell_type": "markdown",
   "metadata": {
    "papermill": {
     "duration": 0.01943,
     "end_time": "2020-08-23T17:39:32.816733",
     "exception": false,
     "start_time": "2020-08-23T17:39:32.797303",
     "status": "completed"
    },
    "tags": []
   },
   "source": [
    "# Parch"
   ]
  },
  {
   "cell_type": "code",
   "execution_count": 28,
   "metadata": {
    "execution": {
     "iopub.execute_input": "2020-08-23T17:39:32.864592Z",
     "iopub.status.busy": "2020-08-23T17:39:32.863533Z",
     "iopub.status.idle": "2020-08-23T17:39:32.867797Z",
     "shell.execute_reply": "2020-08-23T17:39:32.867170Z"
    },
    "papermill": {
     "duration": 0.030826,
     "end_time": "2020-08-23T17:39:32.867919",
     "exception": false,
     "start_time": "2020-08-23T17:39:32.837093",
     "status": "completed"
    },
    "tags": []
   },
   "outputs": [
    {
     "data": {
      "text/plain": [
       "0    678\n",
       "1    118\n",
       "2     80\n",
       "5      5\n",
       "3      5\n",
       "4      4\n",
       "6      1\n",
       "Name: Parch, dtype: int64"
      ]
     },
     "execution_count": 28,
     "metadata": {},
     "output_type": "execute_result"
    }
   ],
   "source": [
    "train[\"Parch\"].value_counts()"
   ]
  },
  {
   "cell_type": "code",
   "execution_count": 29,
   "metadata": {
    "execution": {
     "iopub.execute_input": "2020-08-23T17:39:32.924260Z",
     "iopub.status.busy": "2020-08-23T17:39:32.923471Z",
     "iopub.status.idle": "2020-08-23T17:39:33.067523Z",
     "shell.execute_reply": "2020-08-23T17:39:33.066859Z"
    },
    "papermill": {
     "duration": 0.179686,
     "end_time": "2020-08-23T17:39:33.067663",
     "exception": false,
     "start_time": "2020-08-23T17:39:32.887977",
     "status": "completed"
    },
    "tags": []
   },
   "outputs": [
    {
     "data": {
      "text/plain": [
       "<matplotlib.axes._subplots.AxesSubplot at 0x7fddaec60b90>"
      ]
     },
     "execution_count": 29,
     "metadata": {},
     "output_type": "execute_result"
    },
    {
     "data": {
      "image/png": "[encoded data removed]",
      "text/plain": [
       "<Figure size 720x504 with 1 Axes>"
      ]
     },
     "metadata": {
      "needs_background": "light"
     },
     "output_type": "display_data"
    }
   ],
   "source": [
    "plt.figure(figsize=(10,7))\n",
    "sns.countplot(x=\"Parch\",data=train,palette=\"dark\")"
   ]
  },
  {
   "cell_type": "code",
   "execution_count": 30,
   "metadata": {
    "execution": {
     "iopub.execute_input": "2020-08-23T17:39:33.116590Z",
     "iopub.status.busy": "2020-08-23T17:39:33.115809Z",
     "iopub.status.idle": "2020-08-23T17:39:33.120487Z",
     "shell.execute_reply": "2020-08-23T17:39:33.119861Z"
    },
    "papermill": {
     "duration": 0.033079,
     "end_time": "2020-08-23T17:39:33.120601",
     "exception": false,
     "start_time": "2020-08-23T17:39:33.087522",
     "status": "completed"
    },
    "tags": []
   },
   "outputs": [
    {
     "data": {
      "text/plain": [
       "Parch\n",
       "0    0.343658\n",
       "1    0.550847\n",
       "2    0.500000\n",
       "3    0.600000\n",
       "4    0.000000\n",
       "5    0.200000\n",
       "6    0.000000\n",
       "Name: Survived, dtype: float64"
      ]
     },
     "execution_count": 30,
     "metadata": {},
     "output_type": "execute_result"
    }
   ],
   "source": [
    "train[\"Survived\"].groupby(train[\"Parch\"]).mean()"
   ]
  },
  {
   "cell_type": "code",
   "execution_count": 31,
   "metadata": {
    "execution": {
     "iopub.execute_input": "2020-08-23T17:39:33.172581Z",
     "iopub.status.busy": "2020-08-23T17:39:33.169621Z",
     "iopub.status.idle": "2020-08-23T17:39:33.490903Z",
     "shell.execute_reply": "2020-08-23T17:39:33.490209Z"
    },
    "papermill": {
     "duration": 0.350545,
     "end_time": "2020-08-23T17:39:33.491048",
     "exception": false,
     "start_time": "2020-08-23T17:39:33.140503",
     "status": "completed"
    },
    "tags": []
   },
   "outputs": [
    {
     "data": {
      "text/plain": [
       "<matplotlib.axes._subplots.AxesSubplot at 0x7fddaec0fed0>"
      ]
     },
     "execution_count": 31,
     "metadata": {},
     "output_type": "execute_result"
    },
    {
     "data": {
      "image/png": "[encoded data removed]",
      "text/plain": [
       "<Figure size 720x576 with 1 Axes>"
      ]
     },
     "metadata": {
      "needs_background": "light"
     },
     "output_type": "display_data"
    }
   ],
   "source": [
    "plt.figure(figsize=(10,8))\n",
    "sns.barplot(x=\"Parch\",y=\"Survived\",data=train)"
   ]
  },
  {
   "cell_type": "code",
   "execution_count": 32,
   "metadata": {
    "execution": {
     "iopub.execute_input": "2020-08-23T17:39:33.547462Z",
     "iopub.status.busy": "2020-08-23T17:39:33.539216Z",
     "iopub.status.idle": "2020-08-23T17:39:33.553532Z",
     "shell.execute_reply": "2020-08-23T17:39:33.554054Z"
    },
    "papermill": {
     "duration": 0.042706,
     "end_time": "2020-08-23T17:39:33.554239",
     "exception": false,
     "start_time": "2020-08-23T17:39:33.511533",
     "status": "completed"
    },
    "tags": []
   },
   "outputs": [
    {
     "data": {
      "text/plain": [
       "(7.854, 10.5]        184\n",
       "(21.679, 39.688]     180\n",
       "(-0.001, 7.854]      179\n",
       "(39.688, 512.329]    176\n",
       "(10.5, 21.679]       172\n",
       "Name: Fare, dtype: int64"
      ]
     },
     "execution_count": 32,
     "metadata": {},
     "output_type": "execute_result"
    }
   ],
   "source": [
    "pd.qcut(train[\"Fare\"],5).value_counts()"
   ]
  },
  {
   "cell_type": "code",
   "execution_count": 33,
   "metadata": {
    "execution": {
     "iopub.execute_input": "2020-08-23T17:39:33.603550Z",
     "iopub.status.busy": "2020-08-23T17:39:33.602423Z",
     "iopub.status.idle": "2020-08-23T17:39:33.616125Z",
     "shell.execute_reply": "2020-08-23T17:39:33.615475Z"
    },
    "papermill": {
     "duration": 0.040749,
     "end_time": "2020-08-23T17:39:33.616405",
     "exception": false,
     "start_time": "2020-08-23T17:39:33.575656",
     "status": "completed"
    },
    "tags": []
   },
   "outputs": [
    {
     "data": {
      "text/plain": [
       "Fare\n",
       "(-0.001, 7.854]      0.217877\n",
       "(7.854, 10.5]        0.201087\n",
       "(10.5, 21.679]       0.424419\n",
       "(21.679, 39.688]     0.444444\n",
       "(39.688, 512.329]    0.642045\n",
       "Name: Survived, dtype: float64"
      ]
     },
     "execution_count": 33,
     "metadata": {},
     "output_type": "execute_result"
    }
   ],
   "source": [
    "train[\"Survived\"].groupby(pd.qcut(train[\"Fare\"],5)).mean()"
   ]
  },
  {
   "cell_type": "code",
   "execution_count": 34,
   "metadata": {
    "execution": {
     "iopub.execute_input": "2020-08-23T17:39:33.665545Z",
     "iopub.status.busy": "2020-08-23T17:39:33.664650Z",
     "iopub.status.idle": "2020-08-23T17:39:34.053126Z",
     "shell.execute_reply": "2020-08-23T17:39:34.052510Z"
    },
    "papermill": {
     "duration": 0.416175,
     "end_time": "2020-08-23T17:39:34.053272",
     "exception": false,
     "start_time": "2020-08-23T17:39:33.637097",
     "status": "completed"
    },
    "tags": []
   },
   "outputs": [
    {
     "data": {
      "text/plain": [
       "<matplotlib.axes._subplots.AxesSubplot at 0x7fddaeb6f050>"
      ]
     },
     "execution_count": 34,
     "metadata": {},
     "output_type": "execute_result"
    },
    {
     "data": {
      "image/png": "[encoded data removed]",
      "text/plain": [
       "<Figure size 720x576 with 1 Axes>"
      ]
     },
     "metadata": {
      "needs_background": "light"
     },
     "output_type": "display_data"
    }
   ],
   "source": [
    "plt.figure(figsize=(10,8))\n",
    "sns.regplot(x=train[\"Fare\"],y=train[\"Survived\"])"
   ]
  },
  {
   "cell_type": "markdown",
   "metadata": {
    "papermill": {
     "duration": 0.022279,
     "end_time": "2020-08-23T17:39:34.096958",
     "exception": false,
     "start_time": "2020-08-23T17:39:34.074679",
     "status": "completed"
    },
    "tags": []
   },
   "source": [
    "**So, it is visible that with higher Fare charges the chances of survival is more.**"
   ]
  },
  {
   "cell_type": "code",
   "execution_count": 35,
   "metadata": {
    "execution": {
     "iopub.execute_input": "2020-08-23T17:39:34.145098Z",
     "iopub.status.busy": "2020-08-23T17:39:34.144274Z",
     "iopub.status.idle": "2020-08-23T17:39:34.188436Z",
     "shell.execute_reply": "2020-08-23T17:39:34.187763Z"
    },
    "papermill": {
     "duration": 0.070612,
     "end_time": "2020-08-23T17:39:34.188562",
     "exception": false,
     "start_time": "2020-08-23T17:39:34.117950",
     "status": "completed"
    },
    "tags": []
   },
   "outputs": [
    {
     "data": {
      "text/html": [
       "<div>\n",
       "<style scoped>\n",
       "    .dataframe tbody tr th:only-of-type {\n",
       "        vertical-align: middle;\n",
       "    }\n",
       "\n",
       "    .dataframe tbody tr th {\n",
       "        vertical-align: top;\n",
       "    }\n",
       "\n",
       "    .dataframe thead th {\n",
       "        text-align: right;\n",
       "    }\n",
       "</style>\n",
       "<table border=\"1\" class=\"dataframe\">\n",
       "  <thead>\n",
       "    <tr style=\"text-align: right;\">\n",
       "      <th>Pclass</th>\n",
       "      <th>1</th>\n",
       "      <th>2</th>\n",
       "      <th>3</th>\n",
       "    </tr>\n",
       "    <tr>\n",
       "      <th>Fare</th>\n",
       "      <th></th>\n",
       "      <th></th>\n",
       "      <th></th>\n",
       "    </tr>\n",
       "  </thead>\n",
       "  <tbody>\n",
       "    <tr>\n",
       "      <th>(-0.001, 7.75]</th>\n",
       "      <td>6</td>\n",
       "      <td>6</td>\n",
       "      <td>128</td>\n",
       "    </tr>\n",
       "    <tr>\n",
       "      <th>(7.75, 7.91]</th>\n",
       "      <td>0</td>\n",
       "      <td>0</td>\n",
       "      <td>83</td>\n",
       "    </tr>\n",
       "    <tr>\n",
       "      <th>(7.91, 9.841]</th>\n",
       "      <td>0</td>\n",
       "      <td>0</td>\n",
       "      <td>111</td>\n",
       "    </tr>\n",
       "    <tr>\n",
       "      <th>(9.841, 14.454]</th>\n",
       "      <td>0</td>\n",
       "      <td>86</td>\n",
       "      <td>27</td>\n",
       "    </tr>\n",
       "    <tr>\n",
       "      <th>(14.454, 24.479]</th>\n",
       "      <td>0</td>\n",
       "      <td>24</td>\n",
       "      <td>86</td>\n",
       "    </tr>\n",
       "    <tr>\n",
       "      <th>(24.479, 31.0]</th>\n",
       "      <td>51</td>\n",
       "      <td>46</td>\n",
       "      <td>15</td>\n",
       "    </tr>\n",
       "    <tr>\n",
       "      <th>(31.0, 69.488]</th>\n",
       "      <td>59</td>\n",
       "      <td>17</td>\n",
       "      <td>34</td>\n",
       "    </tr>\n",
       "    <tr>\n",
       "      <th>(69.488, 512.329]</th>\n",
       "      <td>100</td>\n",
       "      <td>5</td>\n",
       "      <td>7</td>\n",
       "    </tr>\n",
       "  </tbody>\n",
       "</table>\n",
       "</div>"
      ],
      "text/plain": [
       "Pclass               1   2    3\n",
       "Fare                           \n",
       "(-0.001, 7.75]       6   6  128\n",
       "(7.75, 7.91]         0   0   83\n",
       "(7.91, 9.841]        0   0  111\n",
       "(9.841, 14.454]      0  86   27\n",
       "(14.454, 24.479]     0  24   86\n",
       "(24.479, 31.0]      51  46   15\n",
       "(31.0, 69.488]      59  17   34\n",
       "(69.488, 512.329]  100   5    7"
      ]
     },
     "execution_count": 35,
     "metadata": {},
     "output_type": "execute_result"
    }
   ],
   "source": [
    "pd.crosstab(pd.qcut(train[\"Fare\"],8),columns=train[\"Pclass\"])"
   ]
  },
  {
   "cell_type": "markdown",
   "metadata": {
    "papermill": {
     "duration": 0.020896,
     "end_time": "2020-08-23T17:39:34.231880",
     "exception": false,
     "start_time": "2020-08-23T17:39:34.210984",
     "status": "completed"
    },
    "tags": []
   },
   "source": [
    "**Fare is aslo corelated with Pclass**"
   ]
  },
  {
   "cell_type": "markdown",
   "metadata": {
    "papermill": {
     "duration": 0.021859,
     "end_time": "2020-08-23T17:39:34.275215",
     "exception": false,
     "start_time": "2020-08-23T17:39:34.253356",
     "status": "completed"
    },
    "tags": []
   },
   "source": [
    "\n",
    "# Now, Let's work with Cabin"
   ]
  },
  {
   "cell_type": "code",
   "execution_count": 36,
   "metadata": {
    "execution": {
     "iopub.execute_input": "2020-08-23T17:39:34.324263Z",
     "iopub.status.busy": "2020-08-23T17:39:34.323572Z",
     "iopub.status.idle": "2020-08-23T17:39:34.328056Z",
     "shell.execute_reply": "2020-08-23T17:39:34.328633Z"
    },
    "papermill": {
     "duration": 0.032074,
     "end_time": "2020-08-23T17:39:34.328803",
     "exception": false,
     "start_time": "2020-08-23T17:39:34.296729",
     "status": "completed"
    },
    "tags": []
   },
   "outputs": [
    {
     "data": {
      "text/plain": [
       "array([nan, 'C85', 'C123', 'E46', 'G6', 'C103', 'D56', 'A6',\n",
       "       'C23 C25 C27', 'B78', 'D33', 'B30', 'C52', 'B28', 'C83', 'F33',\n",
       "       'F G73', 'E31', 'A5', 'D10 D12', 'D26', 'C110', 'B58 B60', 'E101',\n",
       "       'F E69', 'D47', 'B86', 'F2', 'C2', 'E33', 'B19', 'A7', 'C49', 'F4',\n",
       "       'A32', 'B4', 'B80', 'A31', 'D36', 'D15', 'C93', 'C78', 'D35',\n",
       "       'C87', 'B77', 'E67', 'B94', 'C125', 'C99', 'C118', 'D7', 'A19',\n",
       "       'B49', 'D', 'C22 C26', 'C106', 'C65', 'E36', 'C54',\n",
       "       'B57 B59 B63 B66', 'C7', 'E34', 'C32', 'B18', 'C124', 'C91', 'E40',\n",
       "       'T', 'C128', 'D37', 'B35', 'E50', 'C82', 'B96 B98', 'E10', 'E44',\n",
       "       'A34', 'C104', 'C111', 'C92', 'E38', 'D21', 'E12', 'E63', 'A14',\n",
       "       'B37', 'C30', 'D20', 'B79', 'E25', 'D46', 'B73', 'C95', 'B38',\n",
       "       'B39', 'B22', 'C86', 'C70', 'A16', 'C101', 'C68', 'A10', 'E68',\n",
       "       'B41', 'A20', 'D19', 'D50', 'D9', 'A23', 'B50', 'A26', 'D48',\n",
       "       'E58', 'C126', 'B71', 'B51 B53 B55', 'D49', 'B5', 'B20', 'F G63',\n",
       "       'C62 C64', 'E24', 'C90', 'C45', 'E8', 'B101', 'D45', 'C46', 'D30',\n",
       "       'E121', 'D11', 'E77', 'F38', 'B3', 'D6', 'B82 B84', 'D17', 'A36',\n",
       "       'B102', 'B69', 'E49', 'C47', 'D28', 'E17', 'A24', 'C50', 'B42',\n",
       "       'C148'], dtype=object)"
      ]
     },
     "execution_count": 36,
     "metadata": {},
     "output_type": "execute_result"
    }
   ],
   "source": [
    "train[\"Cabin\"].unique()"
   ]
  },
  {
   "cell_type": "markdown",
   "metadata": {
    "papermill": {
     "duration": 0.021257,
     "end_time": "2020-08-23T17:39:34.371516",
     "exception": false,
     "start_time": "2020-08-23T17:39:34.350259",
     "status": "completed"
    },
    "tags": []
   },
   "source": [
    "**As there are so many types of cabin, so we will group the cabins in alphabetical order and we will make one more columne named Cabin_group**"
   ]
  },
  {
   "cell_type": "code",
   "execution_count": 37,
   "metadata": {
    "execution": {
     "iopub.execute_input": "2020-08-23T17:39:34.426396Z",
     "iopub.status.busy": "2020-08-23T17:39:34.425356Z",
     "iopub.status.idle": "2020-08-23T17:39:34.430477Z",
     "shell.execute_reply": "2020-08-23T17:39:34.429789Z"
    },
    "papermill": {
     "duration": 0.037505,
     "end_time": "2020-08-23T17:39:34.430601",
     "exception": false,
     "start_time": "2020-08-23T17:39:34.393096",
     "status": "completed"
    },
    "tags": []
   },
   "outputs": [
    {
     "data": {
      "text/plain": [
       "n    0.771044\n",
       "C    0.066218\n",
       "B    0.052750\n",
       "D    0.037037\n",
       "E    0.035915\n",
       "A    0.016835\n",
       "F    0.014590\n",
       "G    0.004489\n",
       "T    0.001122\n",
       "Name: Cabin_group, dtype: float64"
      ]
     },
     "execution_count": 37,
     "metadata": {},
     "output_type": "execute_result"
    }
   ],
   "source": [
    "train[\"Cabin_group\"]=train[\"Cabin\"].apply(lambda x : str(x)[0])\n",
    "train[\"Cabin_group\"].value_counts(normalize=True)"
   ]
  },
  {
   "cell_type": "code",
   "execution_count": 38,
   "metadata": {
    "execution": {
     "iopub.execute_input": "2020-08-23T17:39:34.484039Z",
     "iopub.status.busy": "2020-08-23T17:39:34.483009Z",
     "iopub.status.idle": "2020-08-23T17:39:34.488148Z",
     "shell.execute_reply": "2020-08-23T17:39:34.487523Z"
    },
    "papermill": {
     "duration": 0.035952,
     "end_time": "2020-08-23T17:39:34.488283",
     "exception": false,
     "start_time": "2020-08-23T17:39:34.452331",
     "status": "completed"
    },
    "tags": []
   },
   "outputs": [
    {
     "data": {
      "text/plain": [
       "Cabin_group\n",
       "A    0.466667\n",
       "B    0.744681\n",
       "C    0.593220\n",
       "D    0.757576\n",
       "E    0.750000\n",
       "F    0.615385\n",
       "G    0.500000\n",
       "T    0.000000\n",
       "n    0.299854\n",
       "Name: Survived, dtype: float64"
      ]
     },
     "execution_count": 38,
     "metadata": {},
     "output_type": "execute_result"
    }
   ],
   "source": [
    "train[\"Survived\"].groupby(train[\"Cabin_group\"]).mean()"
   ]
  },
  {
   "cell_type": "code",
   "execution_count": 39,
   "metadata": {
    "execution": {
     "iopub.execute_input": "2020-08-23T17:39:34.542584Z",
     "iopub.status.busy": "2020-08-23T17:39:34.541870Z",
     "iopub.status.idle": "2020-08-23T17:39:34.894289Z",
     "shell.execute_reply": "2020-08-23T17:39:34.893620Z"
    },
    "papermill": {
     "duration": 0.383563,
     "end_time": "2020-08-23T17:39:34.894433",
     "exception": false,
     "start_time": "2020-08-23T17:39:34.510870",
     "status": "completed"
    },
    "tags": []
   },
   "outputs": [
    {
     "data": {
      "text/plain": [
       "<matplotlib.axes._subplots.AxesSubplot at 0x7fddae006150>"
      ]
     },
     "execution_count": 39,
     "metadata": {},
     "output_type": "execute_result"
    },
    {
     "data": {
      "image/png": "[encoded data removed]",
      "text/plain": [
       "<Figure size 432x288 with 1 Axes>"
      ]
     },
     "metadata": {
      "needs_background": "light"
     },
     "output_type": "display_data"
    }
   ],
   "source": [
    "sns.barplot(x=\"Cabin_group\",y=\"Survived\",data=train)"
   ]
  },
  {
   "cell_type": "markdown",
   "metadata": {
    "papermill": {
     "duration": 0.021857,
     "end_time": "2020-08-23T17:39:34.939261",
     "exception": false,
     "start_time": "2020-08-23T17:39:34.917404",
     "status": "completed"
    },
    "tags": []
   },
   "source": [
    "**It seems there is no such relation between Cabin and Survived columns**"
   ]
  },
  {
   "cell_type": "markdown",
   "metadata": {
    "papermill": {
     "duration": 0.022642,
     "end_time": "2020-08-23T17:39:34.984345",
     "exception": false,
     "start_time": "2020-08-23T17:39:34.961703",
     "status": "completed"
    },
    "tags": []
   },
   "source": [
    "# Now, let's move on to Embarked"
   ]
  },
  {
   "cell_type": "code",
   "execution_count": 40,
   "metadata": {
    "execution": {
     "iopub.execute_input": "2020-08-23T17:39:35.039097Z",
     "iopub.status.busy": "2020-08-23T17:39:35.037901Z",
     "iopub.status.idle": "2020-08-23T17:39:35.042570Z",
     "shell.execute_reply": "2020-08-23T17:39:35.041934Z"
    },
    "papermill": {
     "duration": 0.034793,
     "end_time": "2020-08-23T17:39:35.042687",
     "exception": false,
     "start_time": "2020-08-23T17:39:35.007894",
     "status": "completed"
    },
    "tags": []
   },
   "outputs": [
    {
     "data": {
      "text/plain": [
       "S    644\n",
       "C    168\n",
       "Q     77\n",
       "Name: Embarked, dtype: int64"
      ]
     },
     "execution_count": 40,
     "metadata": {},
     "output_type": "execute_result"
    }
   ],
   "source": [
    "train.Embarked.value_counts()"
   ]
  },
  {
   "cell_type": "code",
   "execution_count": 41,
   "metadata": {
    "execution": {
     "iopub.execute_input": "2020-08-23T17:39:35.098243Z",
     "iopub.status.busy": "2020-08-23T17:39:35.094711Z",
     "iopub.status.idle": "2020-08-23T17:39:35.214164Z",
     "shell.execute_reply": "2020-08-23T17:39:35.213461Z"
    },
    "papermill": {
     "duration": 0.148773,
     "end_time": "2020-08-23T17:39:35.214301",
     "exception": false,
     "start_time": "2020-08-23T17:39:35.065528",
     "status": "completed"
    },
    "tags": []
   },
   "outputs": [
    {
     "data": {
      "text/plain": [
       "<matplotlib.axes._subplots.AxesSubplot at 0x7fddadfb8f90>"
      ]
     },
     "execution_count": 41,
     "metadata": {},
     "output_type": "execute_result"
    },
    {
     "data": {
      "image/png": "[encoded data removed]",
      "text/plain": [
       "<Figure size 432x288 with 1 Axes>"
      ]
     },
     "metadata": {
      "needs_background": "light"
     },
     "output_type": "display_data"
    }
   ],
   "source": [
    "sns.countplot(x=\"Embarked\",data=train)"
   ]
  },
  {
   "cell_type": "code",
   "execution_count": 42,
   "metadata": {
    "execution": {
     "iopub.execute_input": "2020-08-23T17:39:35.268417Z",
     "iopub.status.busy": "2020-08-23T17:39:35.267297Z",
     "iopub.status.idle": "2020-08-23T17:39:35.474580Z",
     "shell.execute_reply": "2020-08-23T17:39:35.473815Z"
    },
    "papermill": {
     "duration": 0.237955,
     "end_time": "2020-08-23T17:39:35.474713",
     "exception": false,
     "start_time": "2020-08-23T17:39:35.236758",
     "status": "completed"
    },
    "tags": []
   },
   "outputs": [
    {
     "data": {
      "text/plain": [
       "<matplotlib.axes._subplots.AxesSubplot at 0x7fddadf21350>"
      ]
     },
     "execution_count": 42,
     "metadata": {},
     "output_type": "execute_result"
    },
    {
     "data": {
      "image/png": "[encoded data removed]",
      "text/plain": [
       "<Figure size 432x288 with 1 Axes>"
      ]
     },
     "metadata": {
      "needs_background": "light"
     },
     "output_type": "display_data"
    }
   ],
   "source": [
    "sns.barplot(x=train[\"Embarked\"],y=train[\"Survived\"])"
   ]
  },
  {
   "cell_type": "code",
   "execution_count": 43,
   "metadata": {
    "execution": {
     "iopub.execute_input": "2020-08-23T17:39:35.536830Z",
     "iopub.status.busy": "2020-08-23T17:39:35.532192Z",
     "iopub.status.idle": "2020-08-23T17:39:35.720951Z",
     "shell.execute_reply": "2020-08-23T17:39:35.720367Z"
    },
    "papermill": {
     "duration": 0.222739,
     "end_time": "2020-08-23T17:39:35.721085",
     "exception": false,
     "start_time": "2020-08-23T17:39:35.498346",
     "status": "completed"
    },
    "tags": []
   },
   "outputs": [
    {
     "data": {
      "text/plain": [
       "<matplotlib.axes._subplots.AxesSubplot at 0x7fddade8e2d0>"
      ]
     },
     "execution_count": 43,
     "metadata": {},
     "output_type": "execute_result"
    },
    {
     "data": {
      "image/png": "[encoded data removed]",
      "text/plain": [
       "<Figure size 432x288 with 1 Axes>"
      ]
     },
     "metadata": {
      "needs_background": "light"
     },
     "output_type": "display_data"
    }
   ],
   "source": [
    "sns.countplot(x=\"Embarked\",hue=\"Pclass\",data=train)"
   ]
  },
  {
   "cell_type": "code",
   "execution_count": 44,
   "metadata": {
    "execution": {
     "iopub.execute_input": "2020-08-23T17:39:35.793290Z",
     "iopub.status.busy": "2020-08-23T17:39:35.792223Z",
     "iopub.status.idle": "2020-08-23T17:39:35.928602Z",
     "shell.execute_reply": "2020-08-23T17:39:35.928007Z"
    },
    "papermill": {
     "duration": 0.182408,
     "end_time": "2020-08-23T17:39:35.928736",
     "exception": false,
     "start_time": "2020-08-23T17:39:35.746328",
     "status": "completed"
    },
    "tags": []
   },
   "outputs": [
    {
     "data": {
      "text/plain": [
       "<matplotlib.axes._subplots.AxesSubplot at 0x7fddade80610>"
      ]
     },
     "execution_count": 44,
     "metadata": {},
     "output_type": "execute_result"
    },
    {
     "data": {
      "image/png": "[encoded data removed]",
      "text/plain": [
       "<Figure size 432x288 with 1 Axes>"
      ]
     },
     "metadata": {
      "needs_background": "light"
     },
     "output_type": "display_data"
    }
   ],
   "source": [
    " sns.countplot(x='Embarked', hue='Sex', data=train)\n"
   ]
  },
  {
   "cell_type": "markdown",
   "metadata": {
    "papermill": {
     "duration": 0.02416,
     "end_time": "2020-08-23T17:39:35.976748",
     "exception": false,
     "start_time": "2020-08-23T17:39:35.952588",
     "status": "completed"
    },
    "tags": []
   },
   "source": [
    "# **Feauture Engineering**"
   ]
  },
  {
   "cell_type": "markdown",
   "metadata": {
    "papermill": {
     "duration": 0.023534,
     "end_time": "2020-08-23T17:39:36.025622",
     "exception": false,
     "start_time": "2020-08-23T17:39:36.002088",
     "status": "completed"
    },
    "tags": []
   },
   "source": [
    "# **Name**"
   ]
  },
  {
   "cell_type": "code",
   "execution_count": 45,
   "metadata": {
    "execution": {
     "iopub.execute_input": "2020-08-23T17:39:36.080987Z",
     "iopub.status.busy": "2020-08-23T17:39:36.079863Z",
     "iopub.status.idle": "2020-08-23T17:39:36.083288Z",
     "shell.execute_reply": "2020-08-23T17:39:36.082612Z"
    },
    "papermill": {
     "duration": 0.034696,
     "end_time": "2020-08-23T17:39:36.083410",
     "exception": false,
     "start_time": "2020-08-23T17:39:36.048714",
     "status": "completed"
    },
    "tags": []
   },
   "outputs": [],
   "source": [
    "def names(train, test):\n",
    "    for i in [train, test]:\n",
    "        i['Name_Len'] = i['Name'].apply(lambda x: len(x))\n",
    "        i['Title'] = i['Name'].apply(lambda x: x.split(',')[1]).apply(lambda x: x.split()[0])\n",
    "        del i['Name']\n",
    "    return train, test"
   ]
  },
  {
   "cell_type": "markdown",
   "metadata": {
    "papermill": {
     "duration": 0.024324,
     "end_time": "2020-08-23T17:39:36.131024",
     "exception": false,
     "start_time": "2020-08-23T17:39:36.106700",
     "status": "completed"
    },
    "tags": []
   },
   "source": [
    "# **Age**"
   ]
  },
  {
   "cell_type": "code",
   "execution_count": 46,
   "metadata": {
    "execution": {
     "iopub.execute_input": "2020-08-23T17:39:36.186054Z",
     "iopub.status.busy": "2020-08-23T17:39:36.185254Z",
     "iopub.status.idle": "2020-08-23T17:39:36.188683Z",
     "shell.execute_reply": "2020-08-23T17:39:36.188120Z"
    },
    "papermill": {
     "duration": 0.033869,
     "end_time": "2020-08-23T17:39:36.188833",
     "exception": false,
     "start_time": "2020-08-23T17:39:36.154964",
     "status": "completed"
    },
    "tags": []
   },
   "outputs": [],
   "source": [
    "def age_impute(train, test):\n",
    "    for i in [train, test]:\n",
    "        i['Age_Null_Flag'] = i['Age'].apply(lambda x: 1 if pd.isnull(x) else 0)\n",
    "        data = train.groupby(['Title', 'Pclass'])['Age']\n",
    "        i['Age'] = data.transform(lambda x: x.fillna(x.mean()))\n",
    "    return train, test"
   ]
  },
  {
   "cell_type": "markdown",
   "metadata": {
    "papermill": {
     "duration": 0.02289,
     "end_time": "2020-08-23T17:39:36.234984",
     "exception": false,
     "start_time": "2020-08-23T17:39:36.212094",
     "status": "completed"
    },
    "tags": []
   },
   "source": [
    "# **SibSp/Parch**"
   ]
  },
  {
   "cell_type": "code",
   "execution_count": 47,
   "metadata": {
    "execution": {
     "iopub.execute_input": "2020-08-23T17:39:36.291572Z",
     "iopub.status.busy": "2020-08-23T17:39:36.290802Z",
     "iopub.status.idle": "2020-08-23T17:39:36.293515Z",
     "shell.execute_reply": "2020-08-23T17:39:36.293984Z"
    },
    "papermill": {
     "duration": 0.035893,
     "end_time": "2020-08-23T17:39:36.294143",
     "exception": false,
     "start_time": "2020-08-23T17:39:36.258250",
     "status": "completed"
    },
    "tags": []
   },
   "outputs": [],
   "source": [
    "def fam_size(train, test):\n",
    "    for i in [train, test]:\n",
    "        i['Fam_Size'] = np.where((i['SibSp']+i['Parch']) == 0 , 'Alone',\n",
    "                           np.where((i['SibSp']+i['Parch']) <= 3,'Small', 'Big'))\n",
    "        del i['SibSp']\n",
    "        del i['Parch']\n",
    "    return train, test"
   ]
  },
  {
   "cell_type": "markdown",
   "metadata": {
    "papermill": {
     "duration": 0.022896,
     "end_time": "2020-08-23T17:39:36.340166",
     "exception": false,
     "start_time": "2020-08-23T17:39:36.317270",
     "status": "completed"
    },
    "tags": []
   },
   "source": [
    "# **Ticket**"
   ]
  },
  {
   "cell_type": "code",
   "execution_count": 48,
   "metadata": {
    "execution": {
     "iopub.execute_input": "2020-08-23T17:39:36.396670Z",
     "iopub.status.busy": "2020-08-23T17:39:36.395726Z",
     "iopub.status.idle": "2020-08-23T17:39:36.398890Z",
     "shell.execute_reply": "2020-08-23T17:39:36.398229Z"
    },
    "papermill": {
     "duration": 0.034956,
     "end_time": "2020-08-23T17:39:36.399029",
     "exception": false,
     "start_time": "2020-08-23T17:39:36.364073",
     "status": "completed"
    },
    "tags": []
   },
   "outputs": [],
   "source": [
    "def ticket_grouped(train, test):\n",
    "    for i in [train, test]:\n",
    "        i['Ticket_Lett'] = i['Ticket'].apply(lambda x: str(x)[0])\n",
    "        i['Ticket_Lett'] = i['Ticket_Lett'].apply(lambda x: str(x))\n",
    "        i['Ticket_Lett'] = np.where((i['Ticket_Lett']).isin(['1', '2', '3', 'S', 'P', 'C', 'A']), i['Ticket_Lett'],\n",
    "                                   np.where((i['Ticket_Lett']).isin(['W', '4', '7', '6', 'L', '5', '8']),\n",
    "                                            'Low_ticket', 'Other_ticket'))\n",
    "        i['Ticket_Len'] = i['Ticket'].apply(lambda x: len(x))\n",
    "        del i['Ticket']\n",
    "    return train, test"
   ]
  },
  {
   "cell_type": "markdown",
   "metadata": {
    "papermill": {
     "duration": 0.022799,
     "end_time": "2020-08-23T17:39:36.445077",
     "exception": false,
     "start_time": "2020-08-23T17:39:36.422278",
     "status": "completed"
    },
    "tags": []
   },
   "source": [
    "# **Cabin**"
   ]
  },
  {
   "cell_type": "code",
   "execution_count": 49,
   "metadata": {
    "execution": {
     "iopub.execute_input": "2020-08-23T17:39:36.498179Z",
     "iopub.status.busy": "2020-08-23T17:39:36.497316Z",
     "iopub.status.idle": "2020-08-23T17:39:36.500435Z",
     "shell.execute_reply": "2020-08-23T17:39:36.499725Z"
    },
    "papermill": {
     "duration": 0.032218,
     "end_time": "2020-08-23T17:39:36.500566",
     "exception": false,
     "start_time": "2020-08-23T17:39:36.468348",
     "status": "completed"
    },
    "tags": []
   },
   "outputs": [],
   "source": [
    "def cabin(train, test):\n",
    "    for i in [train, test]:\n",
    "        i['Cabin_Lett'] = i['Cabin'].apply(lambda x: str(x)[0])\n",
    "        del i['Cabin']\n",
    "    return train, test"
   ]
  },
  {
   "cell_type": "code",
   "execution_count": 50,
   "metadata": {
    "execution": {
     "iopub.execute_input": "2020-08-23T17:39:36.557514Z",
     "iopub.status.busy": "2020-08-23T17:39:36.556706Z",
     "iopub.status.idle": "2020-08-23T17:39:36.559937Z",
     "shell.execute_reply": "2020-08-23T17:39:36.559341Z"
    },
    "papermill": {
     "duration": 0.036086,
     "end_time": "2020-08-23T17:39:36.560063",
     "exception": false,
     "start_time": "2020-08-23T17:39:36.523977",
     "status": "completed"
    },
    "tags": []
   },
   "outputs": [],
   "source": [
    "def cabin_num(train, test):\n",
    "    for i in [train, test]:\n",
    "        i['Cabin_num1'] = i['Cabin'].apply(lambda x: str(x).split(' ')[-1][1:])\n",
    "        i['Cabin_num1'].replace('an', np.NaN, inplace = True)\n",
    "        i['Cabin_num1'] = i['Cabin_num1'].apply(lambda x: int(x) if not pd.isnull(x) and x != '' else np.NaN)\n",
    "        i['Cabin_num'] = pd.qcut(train['Cabin_num1'],3)\n",
    "    train = pd.concat((train, pd.get_dummies(train['Cabin_num'], prefix = 'Cabin_num')), axis = 1)\n",
    "    test = pd.concat((test, pd.get_dummies(test['Cabin_num'], prefix = 'Cabin_num')), axis = 1)\n",
    "    del train['Cabin_num']\n",
    "    del test['Cabin_num']\n",
    "    del train['Cabin_num1']\n",
    "    del test['Cabin_num1']\n",
    "    return train, test\n"
   ]
  },
  {
   "cell_type": "markdown",
   "metadata": {
    "papermill": {
     "duration": 0.022815,
     "end_time": "2020-08-23T17:39:36.606622",
     "exception": false,
     "start_time": "2020-08-23T17:39:36.583807",
     "status": "completed"
    },
    "tags": []
   },
   "source": [
    "# **Embarked**"
   ]
  },
  {
   "cell_type": "code",
   "execution_count": 51,
   "metadata": {
    "execution": {
     "iopub.execute_input": "2020-08-23T17:39:36.662204Z",
     "iopub.status.busy": "2020-08-23T17:39:36.661354Z",
     "iopub.status.idle": "2020-08-23T17:39:36.666659Z",
     "shell.execute_reply": "2020-08-23T17:39:36.665706Z"
    },
    "papermill": {
     "duration": 0.036886,
     "end_time": "2020-08-23T17:39:36.667011",
     "exception": false,
     "start_time": "2020-08-23T17:39:36.630125",
     "status": "completed"
    },
    "tags": []
   },
   "outputs": [
    {
     "data": {
      "text/plain": [
       "S    644\n",
       "C    168\n",
       "Q     77\n",
       "Name: Embarked, dtype: int64"
      ]
     },
     "execution_count": 51,
     "metadata": {},
     "output_type": "execute_result"
    }
   ],
   "source": [
    "train.Embarked.value_counts()"
   ]
  },
  {
   "cell_type": "code",
   "execution_count": 52,
   "metadata": {
    "execution": {
     "iopub.execute_input": "2020-08-23T17:39:36.722145Z",
     "iopub.status.busy": "2020-08-23T17:39:36.721191Z",
     "iopub.status.idle": "2020-08-23T17:39:36.724582Z",
     "shell.execute_reply": "2020-08-23T17:39:36.724051Z"
    },
    "papermill": {
     "duration": 0.032855,
     "end_time": "2020-08-23T17:39:36.724698",
     "exception": false,
     "start_time": "2020-08-23T17:39:36.691843",
     "status": "completed"
    },
    "tags": []
   },
   "outputs": [],
   "source": [
    "train['Embarked'].fillna('S', inplace=True)"
   ]
  },
  {
   "cell_type": "code",
   "execution_count": 53,
   "metadata": {
    "execution": {
     "iopub.execute_input": "2020-08-23T17:39:36.784056Z",
     "iopub.status.busy": "2020-08-23T17:39:36.783242Z",
     "iopub.status.idle": "2020-08-23T17:39:36.788438Z",
     "shell.execute_reply": "2020-08-23T17:39:36.787783Z"
    },
    "papermill": {
     "duration": 0.040457,
     "end_time": "2020-08-23T17:39:36.788555",
     "exception": false,
     "start_time": "2020-08-23T17:39:36.748098",
     "status": "completed"
    },
    "tags": []
   },
   "outputs": [
    {
     "data": {
      "text/html": [
       "<div>\n",
       "<style scoped>\n",
       "    .dataframe tbody tr th:only-of-type {\n",
       "        vertical-align: middle;\n",
       "    }\n",
       "\n",
       "    .dataframe tbody tr th {\n",
       "        vertical-align: top;\n",
       "    }\n",
       "\n",
       "    .dataframe thead th {\n",
       "        text-align: right;\n",
       "    }\n",
       "</style>\n",
       "<table border=\"1\" class=\"dataframe\">\n",
       "  <thead>\n",
       "    <tr style=\"text-align: right;\">\n",
       "      <th></th>\n",
       "      <th>PassengerId</th>\n",
       "      <th>Survived</th>\n",
       "      <th>Pclass</th>\n",
       "      <th>Name</th>\n",
       "      <th>Sex</th>\n",
       "      <th>Age</th>\n",
       "      <th>SibSp</th>\n",
       "      <th>Parch</th>\n",
       "      <th>Ticket</th>\n",
       "      <th>Fare</th>\n",
       "      <th>Cabin</th>\n",
       "      <th>Embarked</th>\n",
       "    </tr>\n",
       "  </thead>\n",
       "  <tbody>\n",
       "  </tbody>\n",
       "</table>\n",
       "</div>"
      ],
      "text/plain": [
       "Empty DataFrame\n",
       "Columns: [PassengerId, Survived, Pclass, Name, Sex, Age, SibSp, Parch, Ticket, Fare, Cabin, Embarked]\n",
       "Index: []"
      ]
     },
     "execution_count": 53,
     "metadata": {},
     "output_type": "execute_result"
    }
   ],
   "source": [
    "test[test.Fare.isnull()]"
   ]
  },
  {
   "cell_type": "code",
   "execution_count": 54,
   "metadata": {
    "execution": {
     "iopub.execute_input": "2020-08-23T17:39:36.842887Z",
     "iopub.status.busy": "2020-08-23T17:39:36.842225Z",
     "iopub.status.idle": "2020-08-23T17:39:36.848330Z",
     "shell.execute_reply": "2020-08-23T17:39:36.847729Z"
    },
    "papermill": {
     "duration": 0.035806,
     "end_time": "2020-08-23T17:39:36.848447",
     "exception": false,
     "start_time": "2020-08-23T17:39:36.812641",
     "status": "completed"
    },
    "tags": []
   },
   "outputs": [
    {
     "data": {
      "text/plain": [
       "7.75"
      ]
     },
     "execution_count": 54,
     "metadata": {},
     "output_type": "execute_result"
    }
   ],
   "source": [
    "train[(train.Pclass==3) & (train.Age>50)].Fare.median()"
   ]
  },
  {
   "cell_type": "code",
   "execution_count": 55,
   "metadata": {
    "execution": {
     "iopub.execute_input": "2020-08-23T17:39:36.903818Z",
     "iopub.status.busy": "2020-08-23T17:39:36.902856Z",
     "iopub.status.idle": "2020-08-23T17:39:36.906042Z",
     "shell.execute_reply": "2020-08-23T17:39:36.905387Z"
    },
    "papermill": {
     "duration": 0.033644,
     "end_time": "2020-08-23T17:39:36.906162",
     "exception": false,
     "start_time": "2020-08-23T17:39:36.872518",
     "status": "completed"
    },
    "tags": []
   },
   "outputs": [],
   "source": [
    "test['Fare'].fillna(7.75, inplace=True)"
   ]
  },
  {
   "cell_type": "markdown",
   "metadata": {
    "papermill": {
     "duration": 0.023639,
     "end_time": "2020-08-23T17:39:36.954073",
     "exception": false,
     "start_time": "2020-08-23T17:39:36.930434",
     "status": "completed"
    },
    "tags": []
   },
   "source": [
    "# **Encoding**"
   ]
  },
  {
   "cell_type": "code",
   "execution_count": 56,
   "metadata": {
    "execution": {
     "iopub.execute_input": "2020-08-23T17:39:37.011443Z",
     "iopub.status.busy": "2020-08-23T17:39:37.010474Z",
     "iopub.status.idle": "2020-08-23T17:39:37.014121Z",
     "shell.execute_reply": "2020-08-23T17:39:37.013352Z"
    },
    "papermill": {
     "duration": 0.036342,
     "end_time": "2020-08-23T17:39:37.014255",
     "exception": false,
     "start_time": "2020-08-23T17:39:36.977913",
     "status": "completed"
    },
    "tags": []
   },
   "outputs": [],
   "source": [
    "def dummies(train, test, columns = ['Pclass', 'Sex', 'Embarked', 'Ticket_Lett', 'Cabin_Lett', 'Name_Title', 'Fam_Size']):\n",
    "    for column in columns:\n",
    "        train[column] = train[column].apply(lambda x: str(x))\n",
    "        test[column] = test[column].apply(lambda x: str(x))\n",
    "        good_cols = [column+'_'+i for i in train[column].unique() if i in test[column].unique()]\n",
    "        train = pd.concat((train, pd.get_dummies(train[column], prefix = column)[good_cols]), axis = 1)\n",
    "        test = pd.concat((test, pd.get_dummies(test[column], prefix = column)[good_cols]), axis = 1)\n",
    "        del train[column]\n",
    "        del test[column]\n",
    "    return train, test"
   ]
  },
  {
   "cell_type": "code",
   "execution_count": 57,
   "metadata": {
    "execution": {
     "iopub.execute_input": "2020-08-23T17:39:37.070799Z",
     "iopub.status.busy": "2020-08-23T17:39:37.069963Z",
     "iopub.status.idle": "2020-08-23T17:39:37.072813Z",
     "shell.execute_reply": "2020-08-23T17:39:37.072253Z"
    },
    "papermill": {
     "duration": 0.03341,
     "end_time": "2020-08-23T17:39:37.072932",
     "exception": false,
     "start_time": "2020-08-23T17:39:37.039522",
     "status": "completed"
    },
    "tags": []
   },
   "outputs": [],
   "source": [
    "def drop(train, test, bye = ['PassengerId']):\n",
    "    for i in [train, test]:\n",
    "        for z in bye:\n",
    "            del i[z]\n",
    "    return train, test"
   ]
  },
  {
   "cell_type": "markdown",
   "metadata": {
    "papermill": {
     "duration": 0.023399,
     "end_time": "2020-08-23T17:39:37.120123",
     "exception": false,
     "start_time": "2020-08-23T17:39:37.096724",
     "status": "completed"
    },
    "tags": []
   },
   "source": [
    "# *****"
   ]
  },
  {
   "cell_type": "code",
   "execution_count": 58,
   "metadata": {
    "execution": {
     "iopub.execute_input": "2020-08-23T17:39:37.186739Z",
     "iopub.status.busy": "2020-08-23T17:39:37.185916Z",
     "iopub.status.idle": "2020-08-23T17:39:37.348685Z",
     "shell.execute_reply": "2020-08-23T17:39:37.348056Z"
    },
    "papermill": {
     "duration": 0.204869,
     "end_time": "2020-08-23T17:39:37.348838",
     "exception": false,
     "start_time": "2020-08-23T17:39:37.143969",
     "status": "completed"
    },
    "tags": []
   },
   "outputs": [],
   "source": [
    "train = pd.read_csv('../input/titanic/train.csv')\n",
    "test = pd.read_csv('../input/titanic/test.csv')\n",
    "train, test = names(train, test)\n",
    "train, test = age_impute(train, test)\n",
    "train, test = cabin_num(train, test)\n",
    "train, test = cabin(train, test)\n",
    "train, test = fam_size(train, test)\n",
    "train, test = ticket_grouped(train, test)\n",
    "train['Embarked'].fillna('S', inplace=True)\n",
    "test['Fare'].fillna(7.75, inplace=True)\n",
    "\n",
    "train, test = dummies(train, test, columns = ['Pclass', 'Sex', 'Embarked', 'Ticket_Lett',\n",
    "                                                'Cabin_Lett', 'Title', 'Fam_Size'])\n",
    "train, test = drop(train, test)"
   ]
  },
  {
   "cell_type": "code",
   "execution_count": 59,
   "metadata": {
    "execution": {
     "iopub.execute_input": "2020-08-23T17:39:37.403669Z",
     "iopub.status.busy": "2020-08-23T17:39:37.402851Z",
     "iopub.status.idle": "2020-08-23T17:39:37.407322Z",
     "shell.execute_reply": "2020-08-23T17:39:37.408020Z"
    },
    "papermill": {
     "duration": 0.034634,
     "end_time": "2020-08-23T17:39:37.408221",
     "exception": false,
     "start_time": "2020-08-23T17:39:37.373587",
     "status": "completed"
    },
    "tags": []
   },
   "outputs": [
    {
     "name": "stdout",
     "output_type": "stream",
     "text": [
      "45\n"
     ]
    }
   ],
   "source": [
    "print(len(train.columns))"
   ]
  },
  {
   "cell_type": "code",
   "execution_count": 60,
   "metadata": {
    "execution": {
     "iopub.execute_input": "2020-08-23T17:39:37.484001Z",
     "iopub.status.busy": "2020-08-23T17:39:37.483135Z",
     "iopub.status.idle": "2020-08-23T17:39:37.487593Z",
     "shell.execute_reply": "2020-08-23T17:39:37.486941Z"
    },
    "papermill": {
     "duration": 0.053097,
     "end_time": "2020-08-23T17:39:37.487716",
     "exception": false,
     "start_time": "2020-08-23T17:39:37.434619",
     "status": "completed"
    },
    "tags": []
   },
   "outputs": [
    {
     "data": {
      "text/html": [
       "<div>\n",
       "<style scoped>\n",
       "    .dataframe tbody tr th:only-of-type {\n",
       "        vertical-align: middle;\n",
       "    }\n",
       "\n",
       "    .dataframe tbody tr th {\n",
       "        vertical-align: top;\n",
       "    }\n",
       "\n",
       "    .dataframe thead th {\n",
       "        text-align: right;\n",
       "    }\n",
       "</style>\n",
       "<table border=\"1\" class=\"dataframe\">\n",
       "  <thead>\n",
       "    <tr style=\"text-align: right;\">\n",
       "      <th></th>\n",
       "      <th>Survived</th>\n",
       "      <th>Age</th>\n",
       "      <th>Fare</th>\n",
       "      <th>Name_Len</th>\n",
       "      <th>Age_Null_Flag</th>\n",
       "      <th>Cabin_num_(1.999, 28.667]</th>\n",
       "      <th>Cabin_num_(28.667, 65.667]</th>\n",
       "      <th>Cabin_num_(65.667, 148.0]</th>\n",
       "      <th>Ticket_Len</th>\n",
       "      <th>Pclass_3</th>\n",
       "      <th>...</th>\n",
       "      <th>Title_Mrs.</th>\n",
       "      <th>Title_Miss.</th>\n",
       "      <th>Title_Master.</th>\n",
       "      <th>Title_Rev.</th>\n",
       "      <th>Title_Dr.</th>\n",
       "      <th>Title_Ms.</th>\n",
       "      <th>Title_Col.</th>\n",
       "      <th>Fam_Size_Small</th>\n",
       "      <th>Fam_Size_Alone</th>\n",
       "      <th>Fam_Size_Big</th>\n",
       "    </tr>\n",
       "  </thead>\n",
       "  <tbody>\n",
       "    <tr>\n",
       "      <th>0</th>\n",
       "      <td>0</td>\n",
       "      <td>22.0</td>\n",
       "      <td>7.2500</td>\n",
       "      <td>23</td>\n",
       "      <td>0</td>\n",
       "      <td>0</td>\n",
       "      <td>0</td>\n",
       "      <td>0</td>\n",
       "      <td>9</td>\n",
       "      <td>1</td>\n",
       "      <td>...</td>\n",
       "      <td>0</td>\n",
       "      <td>0</td>\n",
       "      <td>0</td>\n",
       "      <td>0</td>\n",
       "      <td>0</td>\n",
       "      <td>0</td>\n",
       "      <td>0</td>\n",
       "      <td>1</td>\n",
       "      <td>0</td>\n",
       "      <td>0</td>\n",
       "    </tr>\n",
       "    <tr>\n",
       "      <th>1</th>\n",
       "      <td>1</td>\n",
       "      <td>38.0</td>\n",
       "      <td>71.2833</td>\n",
       "      <td>51</td>\n",
       "      <td>0</td>\n",
       "      <td>0</td>\n",
       "      <td>0</td>\n",
       "      <td>1</td>\n",
       "      <td>8</td>\n",
       "      <td>0</td>\n",
       "      <td>...</td>\n",
       "      <td>1</td>\n",
       "      <td>0</td>\n",
       "      <td>0</td>\n",
       "      <td>0</td>\n",
       "      <td>0</td>\n",
       "      <td>0</td>\n",
       "      <td>0</td>\n",
       "      <td>1</td>\n",
       "      <td>0</td>\n",
       "      <td>0</td>\n",
       "    </tr>\n",
       "    <tr>\n",
       "      <th>2</th>\n",
       "      <td>1</td>\n",
       "      <td>26.0</td>\n",
       "      <td>7.9250</td>\n",
       "      <td>22</td>\n",
       "      <td>0</td>\n",
       "      <td>0</td>\n",
       "      <td>0</td>\n",
       "      <td>0</td>\n",
       "      <td>16</td>\n",
       "      <td>1</td>\n",
       "      <td>...</td>\n",
       "      <td>0</td>\n",
       "      <td>1</td>\n",
       "      <td>0</td>\n",
       "      <td>0</td>\n",
       "      <td>0</td>\n",
       "      <td>0</td>\n",
       "      <td>0</td>\n",
       "      <td>0</td>\n",
       "      <td>1</td>\n",
       "      <td>0</td>\n",
       "    </tr>\n",
       "    <tr>\n",
       "      <th>3</th>\n",
       "      <td>1</td>\n",
       "      <td>35.0</td>\n",
       "      <td>53.1000</td>\n",
       "      <td>44</td>\n",
       "      <td>0</td>\n",
       "      <td>0</td>\n",
       "      <td>0</td>\n",
       "      <td>1</td>\n",
       "      <td>6</td>\n",
       "      <td>0</td>\n",
       "      <td>...</td>\n",
       "      <td>1</td>\n",
       "      <td>0</td>\n",
       "      <td>0</td>\n",
       "      <td>0</td>\n",
       "      <td>0</td>\n",
       "      <td>0</td>\n",
       "      <td>0</td>\n",
       "      <td>1</td>\n",
       "      <td>0</td>\n",
       "      <td>0</td>\n",
       "    </tr>\n",
       "    <tr>\n",
       "      <th>4</th>\n",
       "      <td>0</td>\n",
       "      <td>35.0</td>\n",
       "      <td>8.0500</td>\n",
       "      <td>24</td>\n",
       "      <td>0</td>\n",
       "      <td>0</td>\n",
       "      <td>0</td>\n",
       "      <td>0</td>\n",
       "      <td>6</td>\n",
       "      <td>1</td>\n",
       "      <td>...</td>\n",
       "      <td>0</td>\n",
       "      <td>0</td>\n",
       "      <td>0</td>\n",
       "      <td>0</td>\n",
       "      <td>0</td>\n",
       "      <td>0</td>\n",
       "      <td>0</td>\n",
       "      <td>0</td>\n",
       "      <td>1</td>\n",
       "      <td>0</td>\n",
       "    </tr>\n",
       "  </tbody>\n",
       "</table>\n",
       "<p>5 rows × 45 columns</p>\n",
       "</div>"
      ],
      "text/plain": [
       "   Survived   Age     Fare  Name_Len  Age_Null_Flag  \\\n",
       "0         0  22.0   7.2500        23              0   \n",
       "1         1  38.0  71.2833        51              0   \n",
       "2         1  26.0   7.9250        22              0   \n",
       "3         1  35.0  53.1000        44              0   \n",
       "4         0  35.0   8.0500        24              0   \n",
       "\n",
       "   Cabin_num_(1.999, 28.667]  Cabin_num_(28.667, 65.667]  \\\n",
       "0                          0                           0   \n",
       "1                          0                           0   \n",
       "2                          0                           0   \n",
       "3                          0                           0   \n",
       "4                          0                           0   \n",
       "\n",
       "   Cabin_num_(65.667, 148.0]  Ticket_Len  Pclass_3  ...  Title_Mrs.  \\\n",
       "0                          0           9         1  ...           0   \n",
       "1                          1           8         0  ...           1   \n",
       "2                          0          16         1  ...           0   \n",
       "3                          1           6         0  ...           1   \n",
       "4                          0           6         1  ...           0   \n",
       "\n",
       "   Title_Miss.  Title_Master.  Title_Rev.  Title_Dr.  Title_Ms.  Title_Col.  \\\n",
       "0            0              0           0          0          0           0   \n",
       "1            0              0           0          0          0           0   \n",
       "2            1              0           0          0          0           0   \n",
       "3            0              0           0          0          0           0   \n",
       "4            0              0           0          0          0           0   \n",
       "\n",
       "   Fam_Size_Small  Fam_Size_Alone  Fam_Size_Big  \n",
       "0               1               0             0  \n",
       "1               1               0             0  \n",
       "2               0               1             0  \n",
       "3               1               0             0  \n",
       "4               0               1             0  \n",
       "\n",
       "[5 rows x 45 columns]"
      ]
     },
     "execution_count": 60,
     "metadata": {},
     "output_type": "execute_result"
    }
   ],
   "source": [
    "train.head()"
   ]
  },
  {
   "cell_type": "markdown",
   "metadata": {
    "papermill": {
     "duration": 0.024222,
     "end_time": "2020-08-23T17:39:37.536718",
     "exception": false,
     "start_time": "2020-08-23T17:39:37.512496",
     "status": "completed"
    },
    "tags": []
   },
   "source": [
    "# **Model**"
   ]
  },
  {
   "cell_type": "code",
   "execution_count": 61,
   "metadata": {
    "execution": {
     "iopub.execute_input": "2020-08-23T17:39:37.596181Z",
     "iopub.status.busy": "2020-08-23T17:39:37.595229Z",
     "iopub.status.idle": "2020-08-23T17:39:40.496443Z",
     "shell.execute_reply": "2020-08-23T17:39:40.495639Z"
    },
    "papermill": {
     "duration": 2.933976,
     "end_time": "2020-08-23T17:39:40.496602",
     "exception": false,
     "start_time": "2020-08-23T17:39:37.562626",
     "status": "completed"
    },
    "tags": []
   },
   "outputs": [
    {
     "name": "stdout",
     "output_type": "stream",
     "text": [
      "0.8294\n"
     ]
    }
   ],
   "source": [
    "from sklearn.ensemble import RandomForestClassifier\n",
    "rf = RandomForestClassifier(criterion='gini', \n",
    "                             n_estimators=700,\n",
    "                             min_samples_split=10,\n",
    "                             min_samples_leaf=1,\n",
    "                             max_features='auto',\n",
    "                             oob_score=True,\n",
    "                             random_state=1,\n",
    "                             n_jobs=-1)\n",
    "rf.fit(train.iloc[:, 1:], train.iloc[:, 0])\n",
    "print(\"%.4f\" % rf.oob_score_)"
   ]
  },
  {
   "cell_type": "code",
   "execution_count": 62,
   "metadata": {
    "execution": {
     "iopub.execute_input": "2020-08-23T17:39:40.556141Z",
     "iopub.status.busy": "2020-08-23T17:39:40.555281Z",
     "iopub.status.idle": "2020-08-23T17:39:40.771764Z",
     "shell.execute_reply": "2020-08-23T17:39:40.771074Z"
    },
    "papermill": {
     "duration": 0.248987,
     "end_time": "2020-08-23T17:39:40.771911",
     "exception": false,
     "start_time": "2020-08-23T17:39:40.522924",
     "status": "completed"
    },
    "tags": []
   },
   "outputs": [
    {
     "data": {
      "text/html": [
       "<div>\n",
       "<style scoped>\n",
       "    .dataframe tbody tr th:only-of-type {\n",
       "        vertical-align: middle;\n",
       "    }\n",
       "\n",
       "    .dataframe tbody tr th {\n",
       "        vertical-align: top;\n",
       "    }\n",
       "\n",
       "    .dataframe thead th {\n",
       "        text-align: right;\n",
       "    }\n",
       "</style>\n",
       "<table border=\"1\" class=\"dataframe\">\n",
       "  <thead>\n",
       "    <tr style=\"text-align: right;\">\n",
       "      <th></th>\n",
       "      <th>variable</th>\n",
       "      <th>importance</th>\n",
       "    </tr>\n",
       "  </thead>\n",
       "  <tbody>\n",
       "    <tr>\n",
       "      <th>12</th>\n",
       "      <td>Sex_female</td>\n",
       "      <td>0.111215</td>\n",
       "    </tr>\n",
       "    <tr>\n",
       "      <th>11</th>\n",
       "      <td>Sex_male</td>\n",
       "      <td>0.109769</td>\n",
       "    </tr>\n",
       "    <tr>\n",
       "      <th>33</th>\n",
       "      <td>Title_Mr.</td>\n",
       "      <td>0.109746</td>\n",
       "    </tr>\n",
       "    <tr>\n",
       "      <th>1</th>\n",
       "      <td>Fare</td>\n",
       "      <td>0.088209</td>\n",
       "    </tr>\n",
       "    <tr>\n",
       "      <th>2</th>\n",
       "      <td>Name_Len</td>\n",
       "      <td>0.087904</td>\n",
       "    </tr>\n",
       "    <tr>\n",
       "      <th>0</th>\n",
       "      <td>Age</td>\n",
       "      <td>0.078651</td>\n",
       "    </tr>\n",
       "    <tr>\n",
       "      <th>8</th>\n",
       "      <td>Pclass_3</td>\n",
       "      <td>0.043268</td>\n",
       "    </tr>\n",
       "    <tr>\n",
       "      <th>35</th>\n",
       "      <td>Title_Miss.</td>\n",
       "      <td>0.031292</td>\n",
       "    </tr>\n",
       "    <tr>\n",
       "      <th>7</th>\n",
       "      <td>Ticket_Len</td>\n",
       "      <td>0.031079</td>\n",
       "    </tr>\n",
       "    <tr>\n",
       "      <th>34</th>\n",
       "      <td>Title_Mrs.</td>\n",
       "      <td>0.028852</td>\n",
       "    </tr>\n",
       "    <tr>\n",
       "      <th>25</th>\n",
       "      <td>Cabin_Lett_n</td>\n",
       "      <td>0.027893</td>\n",
       "    </tr>\n",
       "    <tr>\n",
       "      <th>43</th>\n",
       "      <td>Fam_Size_Big</td>\n",
       "      <td>0.025199</td>\n",
       "    </tr>\n",
       "    <tr>\n",
       "      <th>41</th>\n",
       "      <td>Fam_Size_Small</td>\n",
       "      <td>0.022704</td>\n",
       "    </tr>\n",
       "    <tr>\n",
       "      <th>9</th>\n",
       "      <td>Pclass_1</td>\n",
       "      <td>0.021810</td>\n",
       "    </tr>\n",
       "    <tr>\n",
       "      <th>19</th>\n",
       "      <td>Ticket_Lett_1</td>\n",
       "      <td>0.017999</td>\n",
       "    </tr>\n",
       "    <tr>\n",
       "      <th>20</th>\n",
       "      <td>Ticket_Lett_3</td>\n",
       "      <td>0.012902</td>\n",
       "    </tr>\n",
       "    <tr>\n",
       "      <th>10</th>\n",
       "      <td>Pclass_2</td>\n",
       "      <td>0.012345</td>\n",
       "    </tr>\n",
       "    <tr>\n",
       "      <th>36</th>\n",
       "      <td>Title_Master.</td>\n",
       "      <td>0.012098</td>\n",
       "    </tr>\n",
       "    <tr>\n",
       "      <th>23</th>\n",
       "      <td>Ticket_Lett_Low_ticket</td>\n",
       "      <td>0.011723</td>\n",
       "    </tr>\n",
       "    <tr>\n",
       "      <th>13</th>\n",
       "      <td>Embarked_S</td>\n",
       "      <td>0.011546</td>\n",
       "    </tr>\n",
       "  </tbody>\n",
       "</table>\n",
       "</div>"
      ],
      "text/plain": [
       "                  variable  importance\n",
       "12              Sex_female    0.111215\n",
       "11                Sex_male    0.109769\n",
       "33               Title_Mr.    0.109746\n",
       "1                     Fare    0.088209\n",
       "2                 Name_Len    0.087904\n",
       "0                      Age    0.078651\n",
       "8                 Pclass_3    0.043268\n",
       "35             Title_Miss.    0.031292\n",
       "7               Ticket_Len    0.031079\n",
       "34              Title_Mrs.    0.028852\n",
       "25            Cabin_Lett_n    0.027893\n",
       "43            Fam_Size_Big    0.025199\n",
       "41          Fam_Size_Small    0.022704\n",
       "9                 Pclass_1    0.021810\n",
       "19           Ticket_Lett_1    0.017999\n",
       "20           Ticket_Lett_3    0.012902\n",
       "10                Pclass_2    0.012345\n",
       "36           Title_Master.    0.012098\n",
       "23  Ticket_Lett_Low_ticket    0.011723\n",
       "13              Embarked_S    0.011546"
      ]
     },
     "execution_count": 62,
     "metadata": {},
     "output_type": "execute_result"
    }
   ],
   "source": [
    "pd.concat((pd.DataFrame(train.iloc[:, 1:].columns, columns = ['variable']), \n",
    "           pd.DataFrame(rf.feature_importances_, columns = ['importance'])), \n",
    "          axis = 1).sort_values(by='importance', ascending = False)[:20]"
   ]
  },
  {
   "cell_type": "markdown",
   "metadata": {
    "papermill": {
     "duration": 0.024715,
     "end_time": "2020-08-23T17:39:40.822254",
     "exception": false,
     "start_time": "2020-08-23T17:39:40.797539",
     "status": "completed"
    },
    "tags": []
   },
   "source": [
    "Submit"
   ]
  },
  {
   "cell_type": "code",
   "execution_count": 63,
   "metadata": {
    "execution": {
     "iopub.execute_input": "2020-08-23T17:39:40.881591Z",
     "iopub.status.busy": "2020-08-23T17:39:40.880835Z",
     "iopub.status.idle": "2020-08-23T17:39:41.403487Z",
     "shell.execute_reply": "2020-08-23T17:39:41.402666Z"
    },
    "papermill": {
     "duration": 0.556621,
     "end_time": "2020-08-23T17:39:41.403620",
     "exception": false,
     "start_time": "2020-08-23T17:39:40.846999",
     "status": "completed"
    },
    "tags": []
   },
   "outputs": [],
   "source": [
    "predictions = rf.predict(test)\n",
    "predictions = pd.DataFrame(predictions, columns=['Survived'])\n",
    "test = pd.read_csv(\"../input/titanic/test.csv\")\n",
    "predictions = pd.concat((test.iloc[:, 0], predictions), axis = 1)\n",
    "predictions.to_csv('submission.csv', sep=\",\", index = False)\n"
   ]
  }
 ],
 "metadata": {
  "kernelspec": {
   "display_name": "Python 3",
   "language": "python",
   "name": "python3"
  },
  "language_info": {
   "codemirror_mode": {
    "name": "ipython",
    "version": 3
   },
   "file_extension": ".py",
   "mimetype": "text/x-python",
   "name": "python",
   "nbconvert_exporter": "python",
   "pygments_lexer": "ipython3",
   "version": "3.7.3"
  },
  "papermill": {
   "duration": 18.868776,
   "end_time": "2020-08-23T17:39:41.541139",
   "environment_variables": {},
   "exception": null,
   "input_path": "__notebook__.ipynb",
   "output_path": "__notebook__.ipynb",
   "parameters": {},
   "start_time": "2020-08-23T17:39:22.672363",
   "version": "2.1.0"
  }
 },
 "nbformat": 4,
 "nbformat_minor": 4
}
